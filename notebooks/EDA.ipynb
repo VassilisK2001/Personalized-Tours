{
 "cells": [
  {
   "cell_type": "code",
   "execution_count": 20,
   "id": "5159f91e",
   "metadata": {},
   "outputs": [],
   "source": [
    "import pandas as pd\n",
    "import matplotlib.pyplot as plt"
   ]
  },
  {
   "cell_type": "markdown",
   "id": "7253ba07",
   "metadata": {},
   "source": [
    "##### Load <code>story_categories_v1.csv</code>"
   ]
  },
  {
   "cell_type": "code",
   "execution_count": 6,
   "id": "a10a5bb2",
   "metadata": {},
   "outputs": [
    {
     "data": {
      "text/html": [
       "<div>\n",
       "<style scoped>\n",
       "    .dataframe tbody tr th:only-of-type {\n",
       "        vertical-align: middle;\n",
       "    }\n",
       "\n",
       "    .dataframe tbody tr th {\n",
       "        vertical-align: top;\n",
       "    }\n",
       "\n",
       "    .dataframe thead th {\n",
       "        text-align: right;\n",
       "    }\n",
       "</style>\n",
       "<table border=\"1\" class=\"dataframe\">\n",
       "  <thead>\n",
       "    <tr style=\"text-align: right;\">\n",
       "      <th></th>\n",
       "      <th>story_id</th>\n",
       "      <th>generic_category_id</th>\n",
       "      <th>basic_category_id</th>\n",
       "      <th>difficulty_id</th>\n",
       "    </tr>\n",
       "  </thead>\n",
       "  <tbody>\n",
       "    <tr>\n",
       "      <th>0</th>\n",
       "      <td>5</td>\n",
       "      <td>2</td>\n",
       "      <td>NaN</td>\n",
       "      <td>NaN</td>\n",
       "    </tr>\n",
       "    <tr>\n",
       "      <th>1</th>\n",
       "      <td>6</td>\n",
       "      <td>2</td>\n",
       "      <td>NaN</td>\n",
       "      <td>NaN</td>\n",
       "    </tr>\n",
       "    <tr>\n",
       "      <th>2</th>\n",
       "      <td>7</td>\n",
       "      <td>2</td>\n",
       "      <td>NaN</td>\n",
       "      <td>NaN</td>\n",
       "    </tr>\n",
       "    <tr>\n",
       "      <th>3</th>\n",
       "      <td>8</td>\n",
       "      <td>2</td>\n",
       "      <td>NaN</td>\n",
       "      <td>NaN</td>\n",
       "    </tr>\n",
       "    <tr>\n",
       "      <th>4</th>\n",
       "      <td>9</td>\n",
       "      <td>2</td>\n",
       "      <td>NaN</td>\n",
       "      <td>NaN</td>\n",
       "    </tr>\n",
       "  </tbody>\n",
       "</table>\n",
       "</div>"
      ],
      "text/plain": [
       "   story_id  generic_category_id  basic_category_id  difficulty_id\n",
       "0         5                    2                NaN            NaN\n",
       "1         6                    2                NaN            NaN\n",
       "2         7                    2                NaN            NaN\n",
       "3         8                    2                NaN            NaN\n",
       "4         9                    2                NaN            NaN"
      ]
     },
     "execution_count": 6,
     "metadata": {},
     "output_type": "execute_result"
    }
   ],
   "source": [
    "df_story_cat = pd.read_csv(\"../data/cleaned_data/story_categories_v1.csv\")\n",
    "df_story_cat.head()"
   ]
  },
  {
   "cell_type": "code",
   "execution_count": 7,
   "id": "e27b29cf",
   "metadata": {},
   "outputs": [
    {
     "name": "stdout",
     "output_type": "stream",
     "text": [
      "<class 'pandas.core.frame.DataFrame'>\n",
      "RangeIndex: 19772 entries, 0 to 19771\n",
      "Data columns (total 4 columns):\n",
      " #   Column               Non-Null Count  Dtype  \n",
      "---  ------               --------------  -----  \n",
      " 0   story_id             19772 non-null  int64  \n",
      " 1   generic_category_id  19772 non-null  int64  \n",
      " 2   basic_category_id    1761 non-null   float64\n",
      " 3   difficulty_id        6541 non-null   float64\n",
      "dtypes: float64(2), int64(2)\n",
      "memory usage: 618.0 KB\n"
     ]
    }
   ],
   "source": [
    "df_story_cat.info()"
   ]
  },
  {
   "cell_type": "markdown",
   "id": "7e657321",
   "metadata": {},
   "source": [
    "##### Load <code>story_theme_category_v1.csv</code>"
   ]
  },
  {
   "cell_type": "code",
   "execution_count": 3,
   "id": "156d1fc1",
   "metadata": {},
   "outputs": [
    {
     "data": {
      "text/html": [
       "<div>\n",
       "<style scoped>\n",
       "    .dataframe tbody tr th:only-of-type {\n",
       "        vertical-align: middle;\n",
       "    }\n",
       "\n",
       "    .dataframe tbody tr th {\n",
       "        vertical-align: top;\n",
       "    }\n",
       "\n",
       "    .dataframe thead th {\n",
       "        text-align: right;\n",
       "    }\n",
       "</style>\n",
       "<table border=\"1\" class=\"dataframe\">\n",
       "  <thead>\n",
       "    <tr style=\"text-align: right;\">\n",
       "      <th></th>\n",
       "      <th>story_id</th>\n",
       "      <th>basic_category_id</th>\n",
       "    </tr>\n",
       "  </thead>\n",
       "  <tbody>\n",
       "    <tr>\n",
       "      <th>0</th>\n",
       "      <td>5</td>\n",
       "      <td>1</td>\n",
       "    </tr>\n",
       "    <tr>\n",
       "      <th>1</th>\n",
       "      <td>5</td>\n",
       "      <td>3</td>\n",
       "    </tr>\n",
       "    <tr>\n",
       "      <th>2</th>\n",
       "      <td>6</td>\n",
       "      <td>1</td>\n",
       "    </tr>\n",
       "    <tr>\n",
       "      <th>3</th>\n",
       "      <td>6</td>\n",
       "      <td>3</td>\n",
       "    </tr>\n",
       "    <tr>\n",
       "      <th>4</th>\n",
       "      <td>7</td>\n",
       "      <td>1</td>\n",
       "    </tr>\n",
       "  </tbody>\n",
       "</table>\n",
       "</div>"
      ],
      "text/plain": [
       "   story_id  basic_category_id\n",
       "0         5                  1\n",
       "1         5                  3\n",
       "2         6                  1\n",
       "3         6                  3\n",
       "4         7                  1"
      ]
     },
     "execution_count": 3,
     "metadata": {},
     "output_type": "execute_result"
    }
   ],
   "source": [
    "df_story_theme_cat = pd.read_csv(\"../data/cleaned_data/story_theme_category_v1.csv\")\n",
    "df_story_theme_cat.head()"
   ]
  },
  {
   "cell_type": "code",
   "execution_count": 5,
   "id": "671695c1",
   "metadata": {},
   "outputs": [
    {
     "name": "stdout",
     "output_type": "stream",
     "text": [
      "<class 'pandas.core.frame.DataFrame'>\n",
      "RangeIndex: 49445 entries, 0 to 49444\n",
      "Data columns (total 2 columns):\n",
      " #   Column             Non-Null Count  Dtype\n",
      "---  ------             --------------  -----\n",
      " 0   story_id           49445 non-null  int64\n",
      " 1   basic_category_id  49445 non-null  int64\n",
      "dtypes: int64(2)\n",
      "memory usage: 772.7 KB\n"
     ]
    }
   ],
   "source": [
    "df_story_theme_cat.info()"
   ]
  },
  {
   "cell_type": "markdown",
   "id": "66d7252f",
   "metadata": {},
   "source": [
    "##### Load <code>basic_categories_v1.csv</code>"
   ]
  },
  {
   "cell_type": "code",
   "execution_count": 4,
   "id": "a5d47a26",
   "metadata": {},
   "outputs": [
    {
     "data": {
      "text/html": [
       "<div>\n",
       "<style scoped>\n",
       "    .dataframe tbody tr th:only-of-type {\n",
       "        vertical-align: middle;\n",
       "    }\n",
       "\n",
       "    .dataframe tbody tr th {\n",
       "        vertical-align: top;\n",
       "    }\n",
       "\n",
       "    .dataframe thead th {\n",
       "        text-align: right;\n",
       "    }\n",
       "</style>\n",
       "<table border=\"1\" class=\"dataframe\">\n",
       "  <thead>\n",
       "    <tr style=\"text-align: right;\">\n",
       "      <th></th>\n",
       "      <th>basic_category_id</th>\n",
       "      <th>generic_category_id</th>\n",
       "      <th>basic_category_name</th>\n",
       "    </tr>\n",
       "  </thead>\n",
       "  <tbody>\n",
       "    <tr>\n",
       "      <th>0</th>\n",
       "      <td>0</td>\n",
       "      <td>0</td>\n",
       "      <td>Directions</td>\n",
       "    </tr>\n",
       "    <tr>\n",
       "      <th>1</th>\n",
       "      <td>1</td>\n",
       "      <td>0</td>\n",
       "      <td>Introduction</td>\n",
       "    </tr>\n",
       "    <tr>\n",
       "      <th>2</th>\n",
       "      <td>2</td>\n",
       "      <td>0</td>\n",
       "      <td>Closure</td>\n",
       "    </tr>\n",
       "    <tr>\n",
       "      <th>3</th>\n",
       "      <td>0</td>\n",
       "      <td>1</td>\n",
       "      <td>Shopping</td>\n",
       "    </tr>\n",
       "    <tr>\n",
       "      <th>4</th>\n",
       "      <td>1</td>\n",
       "      <td>1</td>\n",
       "      <td>Gastronomy-Restaurant</td>\n",
       "    </tr>\n",
       "  </tbody>\n",
       "</table>\n",
       "</div>"
      ],
      "text/plain": [
       "   basic_category_id  generic_category_id    basic_category_name\n",
       "0                  0                    0             Directions\n",
       "1                  1                    0           Introduction\n",
       "2                  2                    0                Closure\n",
       "3                  0                    1               Shopping\n",
       "4                  1                    1  Gastronomy-Restaurant"
      ]
     },
     "execution_count": 4,
     "metadata": {},
     "output_type": "execute_result"
    }
   ],
   "source": [
    "df_basic_categories = pd.read_csv(\"../data/cleaned_data/basic_categories_v1.csv\") \n",
    "df_basic_categories.head()"
   ]
  },
  {
   "cell_type": "code",
   "execution_count": 9,
   "id": "de380812",
   "metadata": {},
   "outputs": [
    {
     "data": {
      "text/html": [
       "<div>\n",
       "<style scoped>\n",
       "    .dataframe tbody tr th:only-of-type {\n",
       "        vertical-align: middle;\n",
       "    }\n",
       "\n",
       "    .dataframe tbody tr th {\n",
       "        vertical-align: top;\n",
       "    }\n",
       "\n",
       "    .dataframe thead th {\n",
       "        text-align: right;\n",
       "    }\n",
       "</style>\n",
       "<table border=\"1\" class=\"dataframe\">\n",
       "  <thead>\n",
       "    <tr style=\"text-align: right;\">\n",
       "      <th></th>\n",
       "      <th>story_id</th>\n",
       "      <th>basic_category_id</th>\n",
       "      <th>generic_category_id</th>\n",
       "      <th>basic_category_name</th>\n",
       "    </tr>\n",
       "  </thead>\n",
       "  <tbody>\n",
       "    <tr>\n",
       "      <th>0</th>\n",
       "      <td>5</td>\n",
       "      <td>1</td>\n",
       "      <td>2</td>\n",
       "      <td>Architecture</td>\n",
       "    </tr>\n",
       "    <tr>\n",
       "      <th>1</th>\n",
       "      <td>5</td>\n",
       "      <td>3</td>\n",
       "      <td>2</td>\n",
       "      <td>Art</td>\n",
       "    </tr>\n",
       "    <tr>\n",
       "      <th>2</th>\n",
       "      <td>6</td>\n",
       "      <td>1</td>\n",
       "      <td>2</td>\n",
       "      <td>Architecture</td>\n",
       "    </tr>\n",
       "    <tr>\n",
       "      <th>3</th>\n",
       "      <td>6</td>\n",
       "      <td>3</td>\n",
       "      <td>2</td>\n",
       "      <td>Art</td>\n",
       "    </tr>\n",
       "    <tr>\n",
       "      <th>4</th>\n",
       "      <td>7</td>\n",
       "      <td>1</td>\n",
       "      <td>2</td>\n",
       "      <td>Architecture</td>\n",
       "    </tr>\n",
       "  </tbody>\n",
       "</table>\n",
       "</div>"
      ],
      "text/plain": [
       "   story_id  basic_category_id  generic_category_id basic_category_name\n",
       "0         5                  1                    2        Architecture\n",
       "1         5                  3                    2                 Art\n",
       "2         6                  1                    2        Architecture\n",
       "3         6                  3                    2                 Art\n",
       "4         7                  1                    2        Architecture"
      ]
     },
     "execution_count": 9,
     "metadata": {},
     "output_type": "execute_result"
    }
   ],
   "source": [
    "df_story_theme_cat = df_story_theme_cat.merge(df_story_cat[['story_id', 'generic_category_id']], on='story_id', how='left')\n",
    "\n",
    "df_story_theme_cat = df_story_theme_cat.merge(df_basic_categories, on=['generic_category_id', 'basic_category_id'], how='left')\n",
    "\n",
    "df_story_theme_cat.head()"
   ]
  },
  {
   "cell_type": "code",
   "execution_count": 10,
   "id": "a3554fc1",
   "metadata": {},
   "outputs": [
    {
     "name": "stdout",
     "output_type": "stream",
     "text": [
      "<class 'pandas.core.frame.DataFrame'>\n",
      "RangeIndex: 49445 entries, 0 to 49444\n",
      "Data columns (total 4 columns):\n",
      " #   Column               Non-Null Count  Dtype \n",
      "---  ------               --------------  ----- \n",
      " 0   story_id             49445 non-null  int64 \n",
      " 1   basic_category_id    49445 non-null  int64 \n",
      " 2   generic_category_id  49445 non-null  int64 \n",
      " 3   basic_category_name  49445 non-null  object\n",
      "dtypes: int64(3), object(1)\n",
      "memory usage: 1.5+ MB\n"
     ]
    }
   ],
   "source": [
    "df_story_theme_cat.info()"
   ]
  },
  {
   "cell_type": "code",
   "execution_count": 27,
   "id": "2adcecbc",
   "metadata": {},
   "outputs": [
    {
     "data": {
      "image/png": "[encoded data removed]",
      "text/plain": [
       "<Figure size 640x480 with 1 Axes>"
      ]
     },
     "metadata": {},
     "output_type": "display_data"
    }
   ],
   "source": [
    "theme_cat_freq = (df_story_theme_cat.groupby('basic_category_name')['story_id'].nunique() / df_story_theme_cat['story_id'].nunique() * 100) \\\n",
    "                        .reset_index(name='frequency') \\\n",
    "                        .sort_values(by='frequency', ascending=False)\n",
    "\n",
    "theme_cat_freq['frequency'] = round(theme_cat_freq['frequency'], 2)\n",
    "\n",
    "bars = plt.bar(theme_cat_freq['basic_category_name'], theme_cat_freq['frequency'])\n",
    "plt.xlabel(\"Theme Category\")\n",
    "plt.ylabel(\"Frequency(%)\")\n",
    "plt.title(\"Theme Category Distribution\")\n",
    "plt.xticks(rotation=45)\n",
    "\n",
    "# Add percentage labels above bars\n",
    "for bar, pct in zip(bars, theme_cat_freq[\"frequency\"]):\n",
    "    height = bar.get_height()\n",
    "    plt.text(bar.get_x() + bar.get_width()/2, height + 1,  # +1 to lift above bar\n",
    "             f\"{pct:.1f}%\", ha='center', va='bottom')\n",
    "\n",
    "plt.ylim(0, max(theme_cat_freq[\"frequency\"]) * 1.15)  # Extra space above bars\n",
    "plt.show()\n",
    "plt.show()"
   ]
  },
  {
   "cell_type": "markdown",
   "id": "10e691bd",
   "metadata": {},
   "source": [
    "### 📌 Theme Category Selection for `item_features` Matrix\n",
    "\n",
    "To build an effective `item_features` matrix for the LightFM model, we filter theme categories based on their frequency in the dataset to avoid feature sparsity and improve model generalization.\n",
    "\n",
    "#### ✅ Included Categories (Frequency ≥ 2%):\n",
    "- **Architecture** (86.94%)\n",
    "- **Art** (47.50%)\n",
    "- **Archeology** (5.27%)\n",
    "- **Religion** (3.98%)\n",
    "\n",
    "These categories are common enough to provide meaningful signal to the model.\n",
    "\n",
    "#### ⚠️ Rare Categories (Frequency < 2%):\n",
    "- Mythology (1.48%)\n",
    "- Quirky (1.30%)\n",
    "- Nature (1.28%)\n",
    "- Fun (0.64%)\n",
    "- Science (0.19%)\n",
    "- Kids (0.02%)\n",
    "\n",
    "These rare categories will be grouped into a single feature: **`Theme_Other`**.  \n",
    "This grouping helps reduce noise, avoids overfitting, and keeps the feature matrix compact.\n",
    "\n",
    "By applying this threshold-based filtering and grouping strategy, we ensure that the LightFM model learns from informative and well-represented item features."
   ]
  },
  {
   "cell_type": "code",
   "execution_count": 28,
   "id": "ef83801a",
   "metadata": {},
   "outputs": [
    {
     "data": {
      "text/html": [
       "<div>\n",
       "<style scoped>\n",
       "    .dataframe tbody tr th:only-of-type {\n",
       "        vertical-align: middle;\n",
       "    }\n",
       "\n",
       "    .dataframe tbody tr th {\n",
       "        vertical-align: top;\n",
       "    }\n",
       "\n",
       "    .dataframe thead th {\n",
       "        text-align: right;\n",
       "    }\n",
       "</style>\n",
       "<table border=\"1\" class=\"dataframe\">\n",
       "  <thead>\n",
       "    <tr style=\"text-align: right;\">\n",
       "      <th></th>\n",
       "      <th>story_id</th>\n",
       "      <th>generic_category_id</th>\n",
       "      <th>basic_category_id</th>\n",
       "      <th>difficulty_id</th>\n",
       "    </tr>\n",
       "  </thead>\n",
       "  <tbody>\n",
       "    <tr>\n",
       "      <th>1585</th>\n",
       "      <td>2156</td>\n",
       "      <td>1</td>\n",
       "      <td>NaN</td>\n",
       "      <td>NaN</td>\n",
       "    </tr>\n",
       "    <tr>\n",
       "      <th>1807</th>\n",
       "      <td>2414</td>\n",
       "      <td>1</td>\n",
       "      <td>NaN</td>\n",
       "      <td>NaN</td>\n",
       "    </tr>\n",
       "    <tr>\n",
       "      <th>2662</th>\n",
       "      <td>3411</td>\n",
       "      <td>1</td>\n",
       "      <td>NaN</td>\n",
       "      <td>NaN</td>\n",
       "    </tr>\n",
       "    <tr>\n",
       "      <th>2894</th>\n",
       "      <td>3779</td>\n",
       "      <td>1</td>\n",
       "      <td>NaN</td>\n",
       "      <td>NaN</td>\n",
       "    </tr>\n",
       "    <tr>\n",
       "      <th>2939</th>\n",
       "      <td>3826</td>\n",
       "      <td>1</td>\n",
       "      <td>NaN</td>\n",
       "      <td>NaN</td>\n",
       "    </tr>\n",
       "  </tbody>\n",
       "</table>\n",
       "</div>"
      ],
      "text/plain": [
       "      story_id  generic_category_id  basic_category_id  difficulty_id\n",
       "1585      2156                    1                NaN            NaN\n",
       "1807      2414                    1                NaN            NaN\n",
       "2662      3411                    1                NaN            NaN\n",
       "2894      3779                    1                NaN            NaN\n",
       "2939      3826                    1                NaN            NaN"
      ]
     },
     "execution_count": 28,
     "metadata": {},
     "output_type": "execute_result"
    }
   ],
   "source": [
    "df_tips = df_story_cat[df_story_cat['generic_category_id'] == 1]\n",
    "df_tips.head()"
   ]
  },
  {
   "cell_type": "code",
   "execution_count": 29,
   "id": "df4e2993",
   "metadata": {},
   "outputs": [
    {
     "name": "stdout",
     "output_type": "stream",
     "text": [
      "<class 'pandas.core.frame.DataFrame'>\n",
      "Index: 1037 entries, 1585 to 19758\n",
      "Data columns (total 4 columns):\n",
      " #   Column               Non-Null Count  Dtype  \n",
      "---  ------               --------------  -----  \n",
      " 0   story_id             1037 non-null   int64  \n",
      " 1   generic_category_id  1037 non-null   int64  \n",
      " 2   basic_category_id    257 non-null    float64\n",
      " 3   difficulty_id        511 non-null    float64\n",
      "dtypes: float64(2), int64(2)\n",
      "memory usage: 40.5 KB\n"
     ]
    }
   ],
   "source": [
    "df_tips.info()"
   ]
  },
  {
   "cell_type": "code",
   "execution_count": 30,
   "id": "fe1d0cae",
   "metadata": {},
   "outputs": [
    {
     "name": "stdout",
     "output_type": "stream",
     "text": [
      "<class 'pandas.core.frame.DataFrame'>\n",
      "RangeIndex: 1037 entries, 0 to 1036\n",
      "Data columns (total 5 columns):\n",
      " #   Column               Non-Null Count  Dtype  \n",
      "---  ------               --------------  -----  \n",
      " 0   story_id             1037 non-null   int64  \n",
      " 1   generic_category_id  1037 non-null   int64  \n",
      " 2   basic_category_id    257 non-null    float64\n",
      " 3   difficulty_id        511 non-null    float64\n",
      " 4   basic_category_name  257 non-null    object \n",
      "dtypes: float64(2), int64(2), object(1)\n",
      "memory usage: 40.6+ KB\n"
     ]
    }
   ],
   "source": [
    "df_tips = df_tips.merge(df_basic_categories, on=['generic_category_id', 'basic_category_id'], how='left')\n",
    "df_tips.info()"
   ]
  },
  {
   "cell_type": "code",
   "execution_count": 31,
   "id": "9429d921",
   "metadata": {},
   "outputs": [
    {
     "data": {
      "image/png": "[encoded data removed]",
      "text/plain": [
       "<Figure size 640x480 with 1 Axes>"
      ]
     },
     "metadata": {},
     "output_type": "display_data"
    }
   ],
   "source": [
    "tip_cat_freq = (df_tips.groupby('basic_category_name')['story_id'].nunique() / df_tips['story_id'].nunique() * 100) \\\n",
    "                        .reset_index(name='frequency') \\\n",
    "                        .sort_values(by='frequency', ascending=False)\n",
    "\n",
    "tip_cat_freq['frequency'] = round(tip_cat_freq['frequency'], 2)\n",
    "\n",
    "bars = plt.bar(tip_cat_freq['basic_category_name'], tip_cat_freq['frequency'])\n",
    "plt.xlabel(\"Tip Category\")\n",
    "plt.ylabel(\"Frequency(%)\")\n",
    "plt.title(\"Tip Category Distribution\")\n",
    "plt.xticks(rotation=45)\n",
    "\n",
    "# Add percentage labels above bars\n",
    "for bar, pct in zip(bars, tip_cat_freq[\"frequency\"]):\n",
    "    height = bar.get_height()\n",
    "    plt.text(bar.get_x() + bar.get_width()/2, height + 1,  # +1 to lift above bar\n",
    "             f\"{pct:.1f}%\", ha='center', va='bottom')\n",
    "\n",
    "plt.ylim(0, max(tip_cat_freq[\"frequency\"]) * 1.15)  # Extra space above bars\n",
    "plt.show()\n",
    "plt.show()"
   ]
  },
  {
   "cell_type": "markdown",
   "id": "a042b565",
   "metadata": {},
   "source": [
    "### 📌 Tip Category Selection for `item_features` Matrix\n",
    "\n",
    "The `tip_basic_category` is available for only 25% of tip stories. To keep the `item_features` matrix informative yet compact:\n",
    "\n",
    "- We include **tip categories with frequency ≥ 2%**:\n",
    "  - Alternative activity (13.31%)\n",
    "  - Gastronomy-Restaurant (5.98%)\n",
    "  - Shopping (2.60%)\n",
    "  - Selfie stop (2.51%)\n",
    "\n",
    "- The **rare category** `Nightlife-Bar (0.39%)` and **missing values** are grouped into a single category: **`Tip_Other`**\n",
    "\n",
    "This approach avoids noise from sparse features while preserving useful distinctions across the majority of tip stories."
   ]
  },
  {
   "cell_type": "markdown",
   "id": "364f5a26",
   "metadata": {},
   "source": []
  }
 ],
 "metadata": {
  "kernelspec": {
   "display_name": "venv",
   "language": "python",
   "name": "python3"
  },
  "language_info": {
   "codemirror_mode": {
    "name": "ipython",
    "version": 3
   },
   "file_extension": ".py",
   "mimetype": "text/x-python",
   "name": "python",
   "nbconvert_exporter": "python",
   "pygments_lexer": "ipython3",
   "version": "3.11.2"
  }
 },
 "nbformat": 4,
 "nbformat_minor": 5
}
