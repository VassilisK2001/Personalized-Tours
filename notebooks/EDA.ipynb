{
 "cells": [
  {
   "cell_type": "code",
   "execution_count": 241,
   "id": "5159f91e",
   "metadata": {},
   "outputs": [],
   "source": [
    "import pandas as pd\n",
    "import matplotlib.pyplot as plt"
   ]
  },
  {
   "cell_type": "markdown",
   "id": "7253ba07",
   "metadata": {},
   "source": [
    "##### Load <code>story_categories_v1.csv</code>"
   ]
  },
  {
   "cell_type": "code",
   "execution_count": 242,
   "id": "a10a5bb2",
   "metadata": {},
   "outputs": [
    {
     "data": {
      "text/html": [
       "<div>\n",
       "<style scoped>\n",
       "    .dataframe tbody tr th:only-of-type {\n",
       "        vertical-align: middle;\n",
       "    }\n",
       "\n",
       "    .dataframe tbody tr th {\n",
       "        vertical-align: top;\n",
       "    }\n",
       "\n",
       "    .dataframe thead th {\n",
       "        text-align: right;\n",
       "    }\n",
       "</style>\n",
       "<table border=\"1\" class=\"dataframe\">\n",
       "  <thead>\n",
       "    <tr style=\"text-align: right;\">\n",
       "      <th></th>\n",
       "      <th>story_id</th>\n",
       "      <th>generic_category_id</th>\n",
       "      <th>basic_category_id</th>\n",
       "      <th>difficulty_id</th>\n",
       "    </tr>\n",
       "  </thead>\n",
       "  <tbody>\n",
       "    <tr>\n",
       "      <th>0</th>\n",
       "      <td>5</td>\n",
       "      <td>2</td>\n",
       "      <td>NaN</td>\n",
       "      <td>NaN</td>\n",
       "    </tr>\n",
       "    <tr>\n",
       "      <th>1</th>\n",
       "      <td>6</td>\n",
       "      <td>2</td>\n",
       "      <td>NaN</td>\n",
       "      <td>NaN</td>\n",
       "    </tr>\n",
       "    <tr>\n",
       "      <th>2</th>\n",
       "      <td>7</td>\n",
       "      <td>2</td>\n",
       "      <td>NaN</td>\n",
       "      <td>NaN</td>\n",
       "    </tr>\n",
       "    <tr>\n",
       "      <th>3</th>\n",
       "      <td>8</td>\n",
       "      <td>2</td>\n",
       "      <td>NaN</td>\n",
       "      <td>NaN</td>\n",
       "    </tr>\n",
       "    <tr>\n",
       "      <th>4</th>\n",
       "      <td>9</td>\n",
       "      <td>2</td>\n",
       "      <td>NaN</td>\n",
       "      <td>NaN</td>\n",
       "    </tr>\n",
       "  </tbody>\n",
       "</table>\n",
       "</div>"
      ],
      "text/plain": [
       "   story_id  generic_category_id  basic_category_id  difficulty_id\n",
       "0         5                    2                NaN            NaN\n",
       "1         6                    2                NaN            NaN\n",
       "2         7                    2                NaN            NaN\n",
       "3         8                    2                NaN            NaN\n",
       "4         9                    2                NaN            NaN"
      ]
     },
     "execution_count": 242,
     "metadata": {},
     "output_type": "execute_result"
    }
   ],
   "source": [
    "df_story_cat = pd.read_csv(\"../data/cleaned_data/story_categories_v1.csv\")\n",
    "df_story_cat.head()"
   ]
  },
  {
   "cell_type": "code",
   "execution_count": 243,
   "id": "e27b29cf",
   "metadata": {},
   "outputs": [
    {
     "name": "stdout",
     "output_type": "stream",
     "text": [
      "<class 'pandas.core.frame.DataFrame'>\n",
      "RangeIndex: 19772 entries, 0 to 19771\n",
      "Data columns (total 4 columns):\n",
      " #   Column               Non-Null Count  Dtype  \n",
      "---  ------               --------------  -----  \n",
      " 0   story_id             19772 non-null  int64  \n",
      " 1   generic_category_id  19772 non-null  int64  \n",
      " 2   basic_category_id    1761 non-null   float64\n",
      " 3   difficulty_id        6541 non-null   float64\n",
      "dtypes: float64(2), int64(2)\n",
      "memory usage: 618.0 KB\n"
     ]
    }
   ],
   "source": [
    "df_story_cat.info()"
   ]
  },
  {
   "cell_type": "code",
   "execution_count": 244,
   "id": "b6abb2ae",
   "metadata": {},
   "outputs": [],
   "source": [
    "# Convert data types\n",
    "df_story_cat['basic_category_id'] = df_story_cat['basic_category_id'].astype(\"Int64\")\n",
    "df_story_cat['difficulty_id'] = df_story_cat['difficulty_id'].astype(\"Int64\")"
   ]
  },
  {
   "cell_type": "code",
   "execution_count": 245,
   "id": "063904fd",
   "metadata": {},
   "outputs": [],
   "source": [
    "df_story_cat = df_story_cat[df_story_cat['generic_category_id'] != 0]"
   ]
  },
  {
   "cell_type": "markdown",
   "id": "7e657321",
   "metadata": {},
   "source": [
    "##### Load <code>story_theme_category_v1.csv</code>"
   ]
  },
  {
   "cell_type": "code",
   "execution_count": 246,
   "id": "156d1fc1",
   "metadata": {},
   "outputs": [
    {
     "data": {
      "text/html": [
       "<div>\n",
       "<style scoped>\n",
       "    .dataframe tbody tr th:only-of-type {\n",
       "        vertical-align: middle;\n",
       "    }\n",
       "\n",
       "    .dataframe tbody tr th {\n",
       "        vertical-align: top;\n",
       "    }\n",
       "\n",
       "    .dataframe thead th {\n",
       "        text-align: right;\n",
       "    }\n",
       "</style>\n",
       "<table border=\"1\" class=\"dataframe\">\n",
       "  <thead>\n",
       "    <tr style=\"text-align: right;\">\n",
       "      <th></th>\n",
       "      <th>story_id</th>\n",
       "      <th>basic_category_id</th>\n",
       "    </tr>\n",
       "  </thead>\n",
       "  <tbody>\n",
       "    <tr>\n",
       "      <th>0</th>\n",
       "      <td>5</td>\n",
       "      <td>1</td>\n",
       "    </tr>\n",
       "    <tr>\n",
       "      <th>1</th>\n",
       "      <td>5</td>\n",
       "      <td>3</td>\n",
       "    </tr>\n",
       "    <tr>\n",
       "      <th>2</th>\n",
       "      <td>6</td>\n",
       "      <td>1</td>\n",
       "    </tr>\n",
       "    <tr>\n",
       "      <th>3</th>\n",
       "      <td>6</td>\n",
       "      <td>3</td>\n",
       "    </tr>\n",
       "    <tr>\n",
       "      <th>4</th>\n",
       "      <td>7</td>\n",
       "      <td>1</td>\n",
       "    </tr>\n",
       "  </tbody>\n",
       "</table>\n",
       "</div>"
      ],
      "text/plain": [
       "   story_id  basic_category_id\n",
       "0         5                  1\n",
       "1         5                  3\n",
       "2         6                  1\n",
       "3         6                  3\n",
       "4         7                  1"
      ]
     },
     "execution_count": 246,
     "metadata": {},
     "output_type": "execute_result"
    }
   ],
   "source": [
    "df_story_theme_cat = pd.read_csv(\"../data/cleaned_data/story_theme_category_v1.csv\")\n",
    "df_story_theme_cat.head()"
   ]
  },
  {
   "cell_type": "code",
   "execution_count": 247,
   "id": "671695c1",
   "metadata": {},
   "outputs": [
    {
     "name": "stdout",
     "output_type": "stream",
     "text": [
      "<class 'pandas.core.frame.DataFrame'>\n",
      "RangeIndex: 49445 entries, 0 to 49444\n",
      "Data columns (total 2 columns):\n",
      " #   Column             Non-Null Count  Dtype\n",
      "---  ------             --------------  -----\n",
      " 0   story_id           49445 non-null  int64\n",
      " 1   basic_category_id  49445 non-null  int64\n",
      "dtypes: int64(2)\n",
      "memory usage: 772.7 KB\n"
     ]
    }
   ],
   "source": [
    "df_story_theme_cat.info()"
   ]
  },
  {
   "cell_type": "markdown",
   "id": "66d7252f",
   "metadata": {},
   "source": [
    "##### Load <code>basic_categories_v1.csv</code>"
   ]
  },
  {
   "cell_type": "code",
   "execution_count": 248,
   "id": "a5d47a26",
   "metadata": {},
   "outputs": [
    {
     "data": {
      "text/html": [
       "<div>\n",
       "<style scoped>\n",
       "    .dataframe tbody tr th:only-of-type {\n",
       "        vertical-align: middle;\n",
       "    }\n",
       "\n",
       "    .dataframe tbody tr th {\n",
       "        vertical-align: top;\n",
       "    }\n",
       "\n",
       "    .dataframe thead th {\n",
       "        text-align: right;\n",
       "    }\n",
       "</style>\n",
       "<table border=\"1\" class=\"dataframe\">\n",
       "  <thead>\n",
       "    <tr style=\"text-align: right;\">\n",
       "      <th></th>\n",
       "      <th>basic_category_id</th>\n",
       "      <th>generic_category_id</th>\n",
       "      <th>basic_category_name</th>\n",
       "    </tr>\n",
       "  </thead>\n",
       "  <tbody>\n",
       "    <tr>\n",
       "      <th>0</th>\n",
       "      <td>0</td>\n",
       "      <td>0</td>\n",
       "      <td>Directions</td>\n",
       "    </tr>\n",
       "    <tr>\n",
       "      <th>1</th>\n",
       "      <td>1</td>\n",
       "      <td>0</td>\n",
       "      <td>Introduction</td>\n",
       "    </tr>\n",
       "    <tr>\n",
       "      <th>2</th>\n",
       "      <td>2</td>\n",
       "      <td>0</td>\n",
       "      <td>Closure</td>\n",
       "    </tr>\n",
       "    <tr>\n",
       "      <th>3</th>\n",
       "      <td>0</td>\n",
       "      <td>1</td>\n",
       "      <td>Shopping</td>\n",
       "    </tr>\n",
       "    <tr>\n",
       "      <th>4</th>\n",
       "      <td>1</td>\n",
       "      <td>1</td>\n",
       "      <td>Gastronomy-Restaurant</td>\n",
       "    </tr>\n",
       "  </tbody>\n",
       "</table>\n",
       "</div>"
      ],
      "text/plain": [
       "   basic_category_id  generic_category_id    basic_category_name\n",
       "0                  0                    0             Directions\n",
       "1                  1                    0           Introduction\n",
       "2                  2                    0                Closure\n",
       "3                  0                    1               Shopping\n",
       "4                  1                    1  Gastronomy-Restaurant"
      ]
     },
     "execution_count": 248,
     "metadata": {},
     "output_type": "execute_result"
    }
   ],
   "source": [
    "df_basic_categories = pd.read_csv(\"../data/cleaned_data/basic_categories_v1.csv\") \n",
    "df_basic_categories.head()"
   ]
  },
  {
   "cell_type": "code",
   "execution_count": 249,
   "id": "de380812",
   "metadata": {},
   "outputs": [
    {
     "data": {
      "text/html": [
       "<div>\n",
       "<style scoped>\n",
       "    .dataframe tbody tr th:only-of-type {\n",
       "        vertical-align: middle;\n",
       "    }\n",
       "\n",
       "    .dataframe tbody tr th {\n",
       "        vertical-align: top;\n",
       "    }\n",
       "\n",
       "    .dataframe thead th {\n",
       "        text-align: right;\n",
       "    }\n",
       "</style>\n",
       "<table border=\"1\" class=\"dataframe\">\n",
       "  <thead>\n",
       "    <tr style=\"text-align: right;\">\n",
       "      <th></th>\n",
       "      <th>story_id</th>\n",
       "      <th>basic_category_id</th>\n",
       "      <th>generic_category_id</th>\n",
       "      <th>basic_category_name</th>\n",
       "    </tr>\n",
       "  </thead>\n",
       "  <tbody>\n",
       "    <tr>\n",
       "      <th>0</th>\n",
       "      <td>5</td>\n",
       "      <td>1</td>\n",
       "      <td>2</td>\n",
       "      <td>Architecture</td>\n",
       "    </tr>\n",
       "    <tr>\n",
       "      <th>1</th>\n",
       "      <td>5</td>\n",
       "      <td>3</td>\n",
       "      <td>2</td>\n",
       "      <td>Art</td>\n",
       "    </tr>\n",
       "    <tr>\n",
       "      <th>2</th>\n",
       "      <td>6</td>\n",
       "      <td>1</td>\n",
       "      <td>2</td>\n",
       "      <td>Architecture</td>\n",
       "    </tr>\n",
       "    <tr>\n",
       "      <th>3</th>\n",
       "      <td>6</td>\n",
       "      <td>3</td>\n",
       "      <td>2</td>\n",
       "      <td>Art</td>\n",
       "    </tr>\n",
       "    <tr>\n",
       "      <th>4</th>\n",
       "      <td>7</td>\n",
       "      <td>1</td>\n",
       "      <td>2</td>\n",
       "      <td>Architecture</td>\n",
       "    </tr>\n",
       "  </tbody>\n",
       "</table>\n",
       "</div>"
      ],
      "text/plain": [
       "   story_id  basic_category_id  generic_category_id basic_category_name\n",
       "0         5                  1                    2        Architecture\n",
       "1         5                  3                    2                 Art\n",
       "2         6                  1                    2        Architecture\n",
       "3         6                  3                    2                 Art\n",
       "4         7                  1                    2        Architecture"
      ]
     },
     "execution_count": 249,
     "metadata": {},
     "output_type": "execute_result"
    }
   ],
   "source": [
    "df_story_theme_cat = df_story_theme_cat.merge(df_story_cat[['story_id', 'generic_category_id']], on='story_id', how='left')\n",
    "\n",
    "df_story_theme_cat = df_story_theme_cat.merge(df_basic_categories, on=['generic_category_id', 'basic_category_id'], how='left')\n",
    "\n",
    "df_story_theme_cat.head()"
   ]
  },
  {
   "cell_type": "code",
   "execution_count": 250,
   "id": "a3554fc1",
   "metadata": {},
   "outputs": [
    {
     "name": "stdout",
     "output_type": "stream",
     "text": [
      "<class 'pandas.core.frame.DataFrame'>\n",
      "RangeIndex: 49445 entries, 0 to 49444\n",
      "Data columns (total 4 columns):\n",
      " #   Column               Non-Null Count  Dtype \n",
      "---  ------               --------------  ----- \n",
      " 0   story_id             49445 non-null  int64 \n",
      " 1   basic_category_id    49445 non-null  int64 \n",
      " 2   generic_category_id  49445 non-null  int64 \n",
      " 3   basic_category_name  49445 non-null  object\n",
      "dtypes: int64(3), object(1)\n",
      "memory usage: 1.5+ MB\n"
     ]
    }
   ],
   "source": [
    "df_story_theme_cat.info()"
   ]
  },
  {
   "cell_type": "code",
   "execution_count": 251,
   "id": "2adcecbc",
   "metadata": {},
   "outputs": [
    {
     "data": {
      "image/png": "[encoded data removed]",
      "text/plain": [
       "<Figure size 640x480 with 1 Axes>"
      ]
     },
     "metadata": {},
     "output_type": "display_data"
    }
   ],
   "source": [
    "theme_cat_freq = (df_story_theme_cat.groupby('basic_category_name')['story_id'].nunique() / df_story_theme_cat['story_id'].nunique() * 100) \\\n",
    "                        .reset_index(name='frequency') \\\n",
    "                        .sort_values(by='frequency', ascending=False)\n",
    "\n",
    "theme_cat_freq['frequency'] = round(theme_cat_freq['frequency'], 2)\n",
    "\n",
    "bars = plt.bar(theme_cat_freq['basic_category_name'], theme_cat_freq['frequency'])\n",
    "plt.xlabel(\"Theme Category\")\n",
    "plt.ylabel(\"Frequency(%)\")\n",
    "plt.title(\"Theme Category Distribution\")\n",
    "plt.xticks(rotation=45)\n",
    "\n",
    "# Add percentage labels above bars\n",
    "for bar, pct in zip(bars, theme_cat_freq[\"frequency\"]):\n",
    "    height = bar.get_height()\n",
    "    plt.text(bar.get_x() + bar.get_width()/2, height + 1,  # +1 to lift above bar\n",
    "             f\"{pct:.1f}%\", ha='center', va='bottom')\n",
    "\n",
    "plt.ylim(0, max(theme_cat_freq[\"frequency\"]) * 1.15)  # Extra space above bars\n",
    "plt.show()\n",
    "plt.show()"
   ]
  },
  {
   "cell_type": "markdown",
   "id": "10e691bd",
   "metadata": {},
   "source": [
    "### Theme Category Selection for `item_features` Matrix\n",
    "\n",
    "To build an effective `item_features` matrix for the LightFM model, we filter theme categories based on their frequency in the dataset to avoid feature sparsity and improve model generalization.\n",
    "\n",
    "#### ✅ Included Categories (Frequency ≥ 2%):\n",
    "- **Architecture** (86.94%)\n",
    "- **Art** (47.50%)\n",
    "- **Archeology** (5.27%)\n",
    "- **Religion** (3.98%)\n",
    "\n",
    "These categories are common enough to provide meaningful signal to the model.\n",
    "\n",
    "#### ⚠️ Rare Categories (Frequency < 2%):\n",
    "- Mythology (1.48%)\n",
    "- Quirky (1.30%)\n",
    "- Nature (1.28%)\n",
    "- Fun (0.64%)\n",
    "- Science (0.19%)\n",
    "- Kids (0.02%)\n",
    "\n",
    "These rare categories will be grouped into a single feature: **`Theme_Other`**.  \n",
    "This grouping helps reduce noise, avoids overfitting, and keeps the feature matrix compact.\n",
    "\n",
    "By applying this threshold-based filtering and grouping strategy, we ensure that the LightFM model learns from informative and well-represented item features."
   ]
  },
  {
   "cell_type": "code",
   "execution_count": 252,
   "id": "ef83801a",
   "metadata": {},
   "outputs": [
    {
     "data": {
      "text/html": [
       "<div>\n",
       "<style scoped>\n",
       "    .dataframe tbody tr th:only-of-type {\n",
       "        vertical-align: middle;\n",
       "    }\n",
       "\n",
       "    .dataframe tbody tr th {\n",
       "        vertical-align: top;\n",
       "    }\n",
       "\n",
       "    .dataframe thead th {\n",
       "        text-align: right;\n",
       "    }\n",
       "</style>\n",
       "<table border=\"1\" class=\"dataframe\">\n",
       "  <thead>\n",
       "    <tr style=\"text-align: right;\">\n",
       "      <th></th>\n",
       "      <th>story_id</th>\n",
       "      <th>generic_category_id</th>\n",
       "      <th>basic_category_id</th>\n",
       "      <th>difficulty_id</th>\n",
       "    </tr>\n",
       "  </thead>\n",
       "  <tbody>\n",
       "    <tr>\n",
       "      <th>1585</th>\n",
       "      <td>2156</td>\n",
       "      <td>1</td>\n",
       "      <td>&lt;NA&gt;</td>\n",
       "      <td>&lt;NA&gt;</td>\n",
       "    </tr>\n",
       "    <tr>\n",
       "      <th>1807</th>\n",
       "      <td>2414</td>\n",
       "      <td>1</td>\n",
       "      <td>&lt;NA&gt;</td>\n",
       "      <td>&lt;NA&gt;</td>\n",
       "    </tr>\n",
       "    <tr>\n",
       "      <th>2662</th>\n",
       "      <td>3411</td>\n",
       "      <td>1</td>\n",
       "      <td>&lt;NA&gt;</td>\n",
       "      <td>&lt;NA&gt;</td>\n",
       "    </tr>\n",
       "    <tr>\n",
       "      <th>2894</th>\n",
       "      <td>3779</td>\n",
       "      <td>1</td>\n",
       "      <td>&lt;NA&gt;</td>\n",
       "      <td>&lt;NA&gt;</td>\n",
       "    </tr>\n",
       "    <tr>\n",
       "      <th>2939</th>\n",
       "      <td>3826</td>\n",
       "      <td>1</td>\n",
       "      <td>&lt;NA&gt;</td>\n",
       "      <td>&lt;NA&gt;</td>\n",
       "    </tr>\n",
       "  </tbody>\n",
       "</table>\n",
       "</div>"
      ],
      "text/plain": [
       "      story_id  generic_category_id  basic_category_id  difficulty_id\n",
       "1585      2156                    1               <NA>           <NA>\n",
       "1807      2414                    1               <NA>           <NA>\n",
       "2662      3411                    1               <NA>           <NA>\n",
       "2894      3779                    1               <NA>           <NA>\n",
       "2939      3826                    1               <NA>           <NA>"
      ]
     },
     "execution_count": 252,
     "metadata": {},
     "output_type": "execute_result"
    }
   ],
   "source": [
    "df_tips = df_story_cat[df_story_cat['generic_category_id'] == 1]\n",
    "df_tips.head()"
   ]
  },
  {
   "cell_type": "code",
   "execution_count": 253,
   "id": "df4e2993",
   "metadata": {},
   "outputs": [
    {
     "name": "stdout",
     "output_type": "stream",
     "text": [
      "<class 'pandas.core.frame.DataFrame'>\n",
      "Index: 1037 entries, 1585 to 19758\n",
      "Data columns (total 4 columns):\n",
      " #   Column               Non-Null Count  Dtype\n",
      "---  ------               --------------  -----\n",
      " 0   story_id             1037 non-null   int64\n",
      " 1   generic_category_id  1037 non-null   int64\n",
      " 2   basic_category_id    257 non-null    Int64\n",
      " 3   difficulty_id        511 non-null    Int64\n",
      "dtypes: Int64(2), int64(2)\n",
      "memory usage: 42.5 KB\n"
     ]
    }
   ],
   "source": [
    "df_tips.info()"
   ]
  },
  {
   "cell_type": "code",
   "execution_count": 254,
   "id": "fe1d0cae",
   "metadata": {},
   "outputs": [
    {
     "name": "stdout",
     "output_type": "stream",
     "text": [
      "<class 'pandas.core.frame.DataFrame'>\n",
      "RangeIndex: 1037 entries, 0 to 1036\n",
      "Data columns (total 5 columns):\n",
      " #   Column               Non-Null Count  Dtype \n",
      "---  ------               --------------  ----- \n",
      " 0   story_id             1037 non-null   int64 \n",
      " 1   generic_category_id  1037 non-null   int64 \n",
      " 2   basic_category_id    257 non-null    Int64 \n",
      " 3   difficulty_id        511 non-null    Int64 \n",
      " 4   basic_category_name  257 non-null    object\n",
      "dtypes: Int64(2), int64(2), object(1)\n",
      "memory usage: 42.7+ KB\n"
     ]
    }
   ],
   "source": [
    "df_tips = df_tips.merge(df_basic_categories, on=['generic_category_id', 'basic_category_id'], how='left')\n",
    "df_tips.info()"
   ]
  },
  {
   "cell_type": "code",
   "execution_count": 255,
   "id": "9429d921",
   "metadata": {},
   "outputs": [
    {
     "data": {
      "image/png": "[encoded data removed]",
      "text/plain": [
       "<Figure size 640x480 with 1 Axes>"
      ]
     },
     "metadata": {},
     "output_type": "display_data"
    }
   ],
   "source": [
    "tip_cat_freq = (df_tips.groupby('basic_category_name')['story_id'].nunique() / df_tips['story_id'].nunique() * 100) \\\n",
    "                        .reset_index(name='frequency') \\\n",
    "                        .sort_values(by='frequency', ascending=False)\n",
    "\n",
    "tip_cat_freq['frequency'] = round(tip_cat_freq['frequency'], 2)\n",
    "\n",
    "bars = plt.bar(tip_cat_freq['basic_category_name'], tip_cat_freq['frequency'])\n",
    "plt.xlabel(\"Tip Category\")\n",
    "plt.ylabel(\"Frequency(%)\")\n",
    "plt.title(\"Tip Category Distribution\")\n",
    "plt.xticks(rotation=45)\n",
    "\n",
    "# Add percentage labels above bars\n",
    "for bar, pct in zip(bars, tip_cat_freq[\"frequency\"]):\n",
    "    height = bar.get_height()\n",
    "    plt.text(bar.get_x() + bar.get_width()/2, height + 1,  # +1 to lift above bar\n",
    "             f\"{pct:.1f}%\", ha='center', va='bottom')\n",
    "\n",
    "plt.ylim(0, max(tip_cat_freq[\"frequency\"]) * 1.15)  # Extra space above bars\n",
    "plt.show()"
   ]
  },
  {
   "cell_type": "markdown",
   "id": "a042b565",
   "metadata": {},
   "source": [
    "### Tip Category Selection for `item_features` Matrix\n",
    "\n",
    "The `tip_basic_category` is available for only 25% of tip stories. To keep the `item_features` matrix informative yet compact:\n",
    "\n",
    "- We include **tip categories with frequency ≥ 2%**:\n",
    "  - Alternative activity (13.31%)\n",
    "  - Gastronomy-Restaurant (5.98%)\n",
    "  - Shopping (2.60%)\n",
    "  - Selfie stop (2.51%)\n",
    "\n",
    "- The **rare category** `Nightlife-Bar (0.39%)` and **missing values** are grouped into a single category: **`Tip_Other`**"
   ]
  },
  {
   "cell_type": "markdown",
   "id": "364f5a26",
   "metadata": {},
   "source": [
    "##### Load <code>tour_category_v1.csv</code>"
   ]
  },
  {
   "cell_type": "code",
   "execution_count": 256,
   "id": "63b4b58f",
   "metadata": {},
   "outputs": [
    {
     "data": {
      "text/html": [
       "<div>\n",
       "<style scoped>\n",
       "    .dataframe tbody tr th:only-of-type {\n",
       "        vertical-align: middle;\n",
       "    }\n",
       "\n",
       "    .dataframe tbody tr th {\n",
       "        vertical-align: top;\n",
       "    }\n",
       "\n",
       "    .dataframe thead th {\n",
       "        text-align: right;\n",
       "    }\n",
       "</style>\n",
       "<table border=\"1\" class=\"dataframe\">\n",
       "  <thead>\n",
       "    <tr style=\"text-align: right;\">\n",
       "      <th></th>\n",
       "      <th>tour_id</th>\n",
       "      <th>tour_category_id</th>\n",
       "    </tr>\n",
       "  </thead>\n",
       "  <tbody>\n",
       "    <tr>\n",
       "      <th>0</th>\n",
       "      <td>1</td>\n",
       "      <td>7</td>\n",
       "    </tr>\n",
       "    <tr>\n",
       "      <th>1</th>\n",
       "      <td>1</td>\n",
       "      <td>15</td>\n",
       "    </tr>\n",
       "    <tr>\n",
       "      <th>2</th>\n",
       "      <td>3</td>\n",
       "      <td>6</td>\n",
       "    </tr>\n",
       "    <tr>\n",
       "      <th>3</th>\n",
       "      <td>3</td>\n",
       "      <td>7</td>\n",
       "    </tr>\n",
       "    <tr>\n",
       "      <th>4</th>\n",
       "      <td>5</td>\n",
       "      <td>2</td>\n",
       "    </tr>\n",
       "  </tbody>\n",
       "</table>\n",
       "</div>"
      ],
      "text/plain": [
       "   tour_id  tour_category_id\n",
       "0        1                 7\n",
       "1        1                15\n",
       "2        3                 6\n",
       "3        3                 7\n",
       "4        5                 2"
      ]
     },
     "execution_count": 256,
     "metadata": {},
     "output_type": "execute_result"
    }
   ],
   "source": [
    "df_tour_cat = pd.read_csv(\"../data/cleaned_data/tour_category_v1.csv\")\n",
    "df_tour_cat.head()"
   ]
  },
  {
   "cell_type": "code",
   "execution_count": 257,
   "id": "378bface",
   "metadata": {},
   "outputs": [
    {
     "name": "stdout",
     "output_type": "stream",
     "text": [
      "<class 'pandas.core.frame.DataFrame'>\n",
      "RangeIndex: 1118 entries, 0 to 1117\n",
      "Data columns (total 2 columns):\n",
      " #   Column            Non-Null Count  Dtype\n",
      "---  ------            --------------  -----\n",
      " 0   tour_id           1118 non-null   int64\n",
      " 1   tour_category_id  1118 non-null   int64\n",
      "dtypes: int64(2)\n",
      "memory usage: 17.6 KB\n"
     ]
    }
   ],
   "source": [
    "df_tour_cat.info()"
   ]
  },
  {
   "cell_type": "markdown",
   "id": "23709616",
   "metadata": {},
   "source": [
    "##### Load <code>category_v1.csv</code>"
   ]
  },
  {
   "cell_type": "code",
   "execution_count": 258,
   "id": "192bf248",
   "metadata": {},
   "outputs": [
    {
     "data": {
      "text/html": [
       "<div>\n",
       "<style scoped>\n",
       "    .dataframe tbody tr th:only-of-type {\n",
       "        vertical-align: middle;\n",
       "    }\n",
       "\n",
       "    .dataframe tbody tr th {\n",
       "        vertical-align: top;\n",
       "    }\n",
       "\n",
       "    .dataframe thead th {\n",
       "        text-align: right;\n",
       "    }\n",
       "</style>\n",
       "<table border=\"1\" class=\"dataframe\">\n",
       "  <thead>\n",
       "    <tr style=\"text-align: right;\">\n",
       "      <th></th>\n",
       "      <th>tour_category_id</th>\n",
       "      <th>tour_category_name</th>\n",
       "    </tr>\n",
       "  </thead>\n",
       "  <tbody>\n",
       "    <tr>\n",
       "      <th>0</th>\n",
       "      <td>1</td>\n",
       "      <td>Literature</td>\n",
       "    </tr>\n",
       "    <tr>\n",
       "      <th>1</th>\n",
       "      <td>2</td>\n",
       "      <td>Performing arts</td>\n",
       "    </tr>\n",
       "    <tr>\n",
       "      <th>2</th>\n",
       "      <td>3</td>\n",
       "      <td>Gastronomy</td>\n",
       "    </tr>\n",
       "    <tr>\n",
       "      <th>3</th>\n",
       "      <td>4</td>\n",
       "      <td>Media arts</td>\n",
       "    </tr>\n",
       "    <tr>\n",
       "      <th>4</th>\n",
       "      <td>5</td>\n",
       "      <td>Virtual art</td>\n",
       "    </tr>\n",
       "  </tbody>\n",
       "</table>\n",
       "</div>"
      ],
      "text/plain": [
       "   tour_category_id tour_category_name\n",
       "0                 1         Literature\n",
       "1                 2    Performing arts\n",
       "2                 3         Gastronomy\n",
       "3                 4         Media arts\n",
       "4                 5        Virtual art"
      ]
     },
     "execution_count": 258,
     "metadata": {},
     "output_type": "execute_result"
    }
   ],
   "source": [
    "df_tour_cat_names = pd.read_csv(\"../data/cleaned_data/category_v1.csv\")\n",
    "df_tour_cat_names.head()"
   ]
  },
  {
   "cell_type": "code",
   "execution_count": 259,
   "id": "46e14cea",
   "metadata": {},
   "outputs": [
    {
     "name": "stdout",
     "output_type": "stream",
     "text": [
      "<class 'pandas.core.frame.DataFrame'>\n",
      "RangeIndex: 16 entries, 0 to 15\n",
      "Data columns (total 2 columns):\n",
      " #   Column              Non-Null Count  Dtype \n",
      "---  ------              --------------  ----- \n",
      " 0   tour_category_id    16 non-null     int64 \n",
      " 1   tour_category_name  16 non-null     object\n",
      "dtypes: int64(1), object(1)\n",
      "memory usage: 388.0+ bytes\n"
     ]
    }
   ],
   "source": [
    "df_tour_cat_names.info()"
   ]
  },
  {
   "cell_type": "code",
   "execution_count": 260,
   "id": "1362ebc6",
   "metadata": {},
   "outputs": [
    {
     "data": {
      "text/html": [
       "<div>\n",
       "<style scoped>\n",
       "    .dataframe tbody tr th:only-of-type {\n",
       "        vertical-align: middle;\n",
       "    }\n",
       "\n",
       "    .dataframe tbody tr th {\n",
       "        vertical-align: top;\n",
       "    }\n",
       "\n",
       "    .dataframe thead th {\n",
       "        text-align: right;\n",
       "    }\n",
       "</style>\n",
       "<table border=\"1\" class=\"dataframe\">\n",
       "  <thead>\n",
       "    <tr style=\"text-align: right;\">\n",
       "      <th></th>\n",
       "      <th>tour_id</th>\n",
       "      <th>tour_category_id</th>\n",
       "      <th>tour_category_name</th>\n",
       "    </tr>\n",
       "  </thead>\n",
       "  <tbody>\n",
       "    <tr>\n",
       "      <th>0</th>\n",
       "      <td>1</td>\n",
       "      <td>7</td>\n",
       "      <td>History</td>\n",
       "    </tr>\n",
       "    <tr>\n",
       "      <th>1</th>\n",
       "      <td>1</td>\n",
       "      <td>15</td>\n",
       "      <td>Museum</td>\n",
       "    </tr>\n",
       "    <tr>\n",
       "      <th>2</th>\n",
       "      <td>3</td>\n",
       "      <td>6</td>\n",
       "      <td>Architecture</td>\n",
       "    </tr>\n",
       "    <tr>\n",
       "      <th>3</th>\n",
       "      <td>3</td>\n",
       "      <td>7</td>\n",
       "      <td>History</td>\n",
       "    </tr>\n",
       "    <tr>\n",
       "      <th>4</th>\n",
       "      <td>5</td>\n",
       "      <td>2</td>\n",
       "      <td>Performing arts</td>\n",
       "    </tr>\n",
       "  </tbody>\n",
       "</table>\n",
       "</div>"
      ],
      "text/plain": [
       "   tour_id  tour_category_id tour_category_name\n",
       "0        1                 7            History\n",
       "1        1                15             Museum\n",
       "2        3                 6       Architecture\n",
       "3        3                 7            History\n",
       "4        5                 2    Performing arts"
      ]
     },
     "execution_count": 260,
     "metadata": {},
     "output_type": "execute_result"
    }
   ],
   "source": [
    "df_tour_cat = df_tour_cat.merge(df_tour_cat_names, on='tour_category_id', how='left')\n",
    "df_tour_cat.head()"
   ]
  },
  {
   "cell_type": "code",
   "execution_count": 261,
   "id": "fcb1f64f",
   "metadata": {},
   "outputs": [
    {
     "name": "stdout",
     "output_type": "stream",
     "text": [
      "<class 'pandas.core.frame.DataFrame'>\n",
      "RangeIndex: 1118 entries, 0 to 1117\n",
      "Data columns (total 3 columns):\n",
      " #   Column              Non-Null Count  Dtype \n",
      "---  ------              --------------  ----- \n",
      " 0   tour_id             1118 non-null   int64 \n",
      " 1   tour_category_id    1118 non-null   int64 \n",
      " 2   tour_category_name  1118 non-null   object\n",
      "dtypes: int64(2), object(1)\n",
      "memory usage: 26.3+ KB\n"
     ]
    }
   ],
   "source": [
    "df_tour_cat.info()"
   ]
  },
  {
   "cell_type": "code",
   "execution_count": 262,
   "id": "646bb6ab",
   "metadata": {},
   "outputs": [
    {
     "data": {
      "image/png": "[encoded data removed]",
      "text/plain": [
       "<Figure size 1200x600 with 1 Axes>"
      ]
     },
     "metadata": {},
     "output_type": "display_data"
    }
   ],
   "source": [
    "\n",
    "plt.figure(figsize=(12,6))\n",
    "tour_cat_freq = (df_tour_cat.groupby('tour_category_name')['tour_id'].nunique() / df_tour_cat['tour_id'].nunique() * 100) \\\n",
    "                        .reset_index(name='frequency') \\\n",
    "                        .sort_values(by='frequency', ascending=False)\n",
    "\n",
    "tour_cat_freq['frequency'] = round(tour_cat_freq['frequency'], 2)\n",
    "\n",
    "bars = plt.bar(tour_cat_freq['tour_category_name'], tour_cat_freq['frequency'])\n",
    "plt.xlabel(\"Tour Category\")\n",
    "plt.ylabel(\"Frequency(%)\")\n",
    "plt.title(\"Tour Category Distribution\")\n",
    "plt.xticks(rotation=45)\n",
    "\n",
    "# Add percentage labels above bars\n",
    "for bar, pct in zip(bars, tour_cat_freq[\"frequency\"]):\n",
    "    height = bar.get_height()\n",
    "    plt.text(bar.get_x() + bar.get_width()/2, height + 1,  # +1 to lift above bar\n",
    "             f\"{pct:.1f}%\", ha='center', va='bottom')\n",
    "\n",
    "plt.ylim(0, max(tour_cat_freq[\"frequency\"]) * 1.15)  # Extra space above bars\n",
    "plt.show()"
   ]
  },
  {
   "cell_type": "markdown",
   "id": "2886cdd0",
   "metadata": {},
   "source": [
    "### Tour Category Selection for `item_features` Matrix\n",
    "\n",
    "To ensure meaningful and manageable input for the `item_features` matrix:\n",
    "\n",
    "- We include **tour categories with frequency ≥ 2%**, covering the majority of tours:\n",
    "  - History (85.84%)\n",
    "  - Museum (38.88%)\n",
    "  - Walking (31.69%)\n",
    "  - Architecture (30.56%)\n",
    "  - Virtual art (22.70%)\n",
    "  - Nature (10.79%)\n",
    "  - Family (7.42%)\n",
    "  - Adventure (6.52%)\n",
    "  - Gallery (4.27%)\n",
    "  - Gastronomy (3.15%)\n",
    "  - Media arts (2.70%)\n",
    "  - Literature (2.02%)\n",
    "  - Performing arts (2.02%)\n",
    "\n",
    "- The remaining low-frequency categories (`Industrial`, `Kids`, `Vehicle`) are grouped into: **`Tour_Category_Other`**\n"
   ]
  },
  {
   "cell_type": "markdown",
   "id": "22bc9921",
   "metadata": {},
   "source": [
    "##### Load <code>difficulty_levels_v1.csv</code>"
   ]
  },
  {
   "cell_type": "code",
   "execution_count": 263,
   "id": "064b7ed2",
   "metadata": {},
   "outputs": [
    {
     "data": {
      "text/html": [
       "<div>\n",
       "<style scoped>\n",
       "    .dataframe tbody tr th:only-of-type {\n",
       "        vertical-align: middle;\n",
       "    }\n",
       "\n",
       "    .dataframe tbody tr th {\n",
       "        vertical-align: top;\n",
       "    }\n",
       "\n",
       "    .dataframe thead th {\n",
       "        text-align: right;\n",
       "    }\n",
       "</style>\n",
       "<table border=\"1\" class=\"dataframe\">\n",
       "  <thead>\n",
       "    <tr style=\"text-align: right;\">\n",
       "      <th></th>\n",
       "      <th>id</th>\n",
       "      <th>difficulty</th>\n",
       "    </tr>\n",
       "  </thead>\n",
       "  <tbody>\n",
       "    <tr>\n",
       "      <th>0</th>\n",
       "      <td>0</td>\n",
       "      <td>Easy</td>\n",
       "    </tr>\n",
       "    <tr>\n",
       "      <th>1</th>\n",
       "      <td>1</td>\n",
       "      <td>Mild</td>\n",
       "    </tr>\n",
       "    <tr>\n",
       "      <th>2</th>\n",
       "      <td>2</td>\n",
       "      <td>Difficult</td>\n",
       "    </tr>\n",
       "    <tr>\n",
       "      <th>3</th>\n",
       "      <td>3</td>\n",
       "      <td>Hard</td>\n",
       "    </tr>\n",
       "  </tbody>\n",
       "</table>\n",
       "</div>"
      ],
      "text/plain": [
       "   id difficulty\n",
       "0   0       Easy\n",
       "1   1       Mild\n",
       "2   2  Difficult\n",
       "3   3       Hard"
      ]
     },
     "execution_count": 263,
     "metadata": {},
     "output_type": "execute_result"
    }
   ],
   "source": [
    "df_diff_levels = pd.read_csv(\"../data/cleaned_data/difficulty_levels_v1.csv\")\n",
    "df_diff_levels"
   ]
  },
  {
   "cell_type": "code",
   "execution_count": 264,
   "id": "c5f34700",
   "metadata": {},
   "outputs": [],
   "source": [
    "df_diff_levels.rename(columns = {'id': 'difficulty_id', 'difficulty': 'difficulty_name'}, inplace=True)"
   ]
  },
  {
   "cell_type": "code",
   "execution_count": 265,
   "id": "48098fd2",
   "metadata": {},
   "outputs": [
    {
     "name": "stdout",
     "output_type": "stream",
     "text": [
      "<class 'pandas.core.frame.DataFrame'>\n",
      "RangeIndex: 4 entries, 0 to 3\n",
      "Data columns (total 2 columns):\n",
      " #   Column           Non-Null Count  Dtype \n",
      "---  ------           --------------  ----- \n",
      " 0   difficulty_id    4 non-null      int64 \n",
      " 1   difficulty_name  4 non-null      object\n",
      "dtypes: int64(1), object(1)\n",
      "memory usage: 196.0+ bytes\n"
     ]
    }
   ],
   "source": [
    "df_diff_levels.info()"
   ]
  },
  {
   "cell_type": "code",
   "execution_count": 266,
   "id": "6bc287d6",
   "metadata": {},
   "outputs": [
    {
     "name": "stdout",
     "output_type": "stream",
     "text": [
      "<class 'pandas.core.frame.DataFrame'>\n",
      "Index: 16921 entries, 0 to 19771\n",
      "Data columns (total 2 columns):\n",
      " #   Column         Non-Null Count  Dtype\n",
      "---  ------         --------------  -----\n",
      " 0   story_id       16921 non-null  int64\n",
      " 1   difficulty_id  5772 non-null   Int64\n",
      "dtypes: Int64(1), int64(1)\n",
      "memory usage: 413.1 KB\n"
     ]
    }
   ],
   "source": [
    "df_difficulty = df_story_cat[['story_id', 'difficulty_id']]\n",
    "df_difficulty.info()"
   ]
  },
  {
   "cell_type": "code",
   "execution_count": 267,
   "id": "eb0bd35c",
   "metadata": {},
   "outputs": [
    {
     "data": {
      "text/html": [
       "<div>\n",
       "<style scoped>\n",
       "    .dataframe tbody tr th:only-of-type {\n",
       "        vertical-align: middle;\n",
       "    }\n",
       "\n",
       "    .dataframe tbody tr th {\n",
       "        vertical-align: top;\n",
       "    }\n",
       "\n",
       "    .dataframe thead th {\n",
       "        text-align: right;\n",
       "    }\n",
       "</style>\n",
       "<table border=\"1\" class=\"dataframe\">\n",
       "  <thead>\n",
       "    <tr style=\"text-align: right;\">\n",
       "      <th></th>\n",
       "      <th>story_id</th>\n",
       "      <th>difficulty_id</th>\n",
       "      <th>difficulty_name</th>\n",
       "    </tr>\n",
       "  </thead>\n",
       "  <tbody>\n",
       "    <tr>\n",
       "      <th>0</th>\n",
       "      <td>5</td>\n",
       "      <td>&lt;NA&gt;</td>\n",
       "      <td>NaN</td>\n",
       "    </tr>\n",
       "    <tr>\n",
       "      <th>1</th>\n",
       "      <td>6</td>\n",
       "      <td>&lt;NA&gt;</td>\n",
       "      <td>NaN</td>\n",
       "    </tr>\n",
       "    <tr>\n",
       "      <th>2</th>\n",
       "      <td>7</td>\n",
       "      <td>&lt;NA&gt;</td>\n",
       "      <td>NaN</td>\n",
       "    </tr>\n",
       "    <tr>\n",
       "      <th>3</th>\n",
       "      <td>8</td>\n",
       "      <td>&lt;NA&gt;</td>\n",
       "      <td>NaN</td>\n",
       "    </tr>\n",
       "    <tr>\n",
       "      <th>4</th>\n",
       "      <td>9</td>\n",
       "      <td>&lt;NA&gt;</td>\n",
       "      <td>NaN</td>\n",
       "    </tr>\n",
       "  </tbody>\n",
       "</table>\n",
       "</div>"
      ],
      "text/plain": [
       "   story_id  difficulty_id difficulty_name\n",
       "0         5           <NA>             NaN\n",
       "1         6           <NA>             NaN\n",
       "2         7           <NA>             NaN\n",
       "3         8           <NA>             NaN\n",
       "4         9           <NA>             NaN"
      ]
     },
     "execution_count": 267,
     "metadata": {},
     "output_type": "execute_result"
    }
   ],
   "source": [
    "df_difficulty = df_difficulty.merge(df_diff_levels, on='difficulty_id', how='left')\n",
    "df_difficulty.head()"
   ]
  },
  {
   "cell_type": "code",
   "execution_count": 268,
   "id": "c76be670",
   "metadata": {},
   "outputs": [
    {
     "name": "stdout",
     "output_type": "stream",
     "text": [
      "<class 'pandas.core.frame.DataFrame'>\n",
      "RangeIndex: 16921 entries, 0 to 16920\n",
      "Data columns (total 3 columns):\n",
      " #   Column           Non-Null Count  Dtype \n",
      "---  ------           --------------  ----- \n",
      " 0   story_id         16921 non-null  int64 \n",
      " 1   difficulty_id    5772 non-null   Int64 \n",
      " 2   difficulty_name  5772 non-null   object\n",
      "dtypes: Int64(1), int64(1), object(1)\n",
      "memory usage: 413.2+ KB\n"
     ]
    }
   ],
   "source": [
    "df_difficulty.info()"
   ]
  },
  {
   "cell_type": "code",
   "execution_count": 269,
   "id": "6a7d7941",
   "metadata": {},
   "outputs": [
    {
     "data": {
      "image/png": "[encoded data removed]",
      "text/plain": [
       "<Figure size 640x480 with 1 Axes>"
      ]
     },
     "metadata": {},
     "output_type": "display_data"
    }
   ],
   "source": [
    "diff_cat_freq = (df_difficulty.groupby('difficulty_name')['story_id'].nunique() / df_difficulty['story_id'].nunique() * 100) \\\n",
    "                        .reset_index(name='frequency') \\\n",
    "                        .sort_values(by='frequency', ascending=False)\n",
    "\n",
    "diff_cat_freq['frequency'] = round(diff_cat_freq['frequency'], 2)\n",
    "\n",
    "bars = plt.bar(diff_cat_freq['difficulty_name'], diff_cat_freq['frequency'])\n",
    "plt.xlabel(\"Difficulty Category\")\n",
    "plt.ylabel(\"Frequency(%)\")\n",
    "plt.title(\"Difficulty Category Distribution\")\n",
    "plt.xticks(rotation=45)\n",
    "\n",
    "# Add percentage labels above bars\n",
    "for bar, pct in zip(bars, diff_cat_freq[\"frequency\"]):\n",
    "    height = bar.get_height()\n",
    "    plt.text(bar.get_x() + bar.get_width()/2, height + 1,  # +1 to lift above bar\n",
    "             f\"{pct:.1f}%\", ha='center', va='bottom')\n",
    "\n",
    "plt.ylim(0, max(diff_cat_freq[\"frequency\"]) * 1.15)  # Extra space above bars\n",
    "plt.show()"
   ]
  },
  {
   "cell_type": "markdown",
   "id": "b53e4642",
   "metadata": {},
   "source": [
    "### Encoding `difficulty` Feature for `item_features` Matrix\n",
    "\n",
    "The `difficulty` attribute is available for only **34%** of all stories and is distributed as follows:\n",
    "\n",
    "- Easy: 19.30%\n",
    "- Mild: 13.42%\n",
    "- Difficult: 1.32%\n",
    "- Hard: 0.08%\n",
    "\n",
    "To balance information value and sparsity:\n",
    "\n",
    "1. **Group low-frequency levels**:\n",
    "   - Combine `\"Difficult\"` and `\"Hard\"` into a new category: **`High_Difficulty`** (total 1.4%).\n",
    "\n",
    "2. **Impute missing values**:\n",
    "   - Create a new level: **`Unknown_Difficulty`** to represent stories with no difficulty info (66% of all stories).\n",
    "\n",
    "3. **Final encoded levels**:\n",
    "   - `Easy`\n",
    "   - `Mild`\n",
    "   - `High_Difficulty`\n",
    "   - `Unknown_Difficulty` (for missing values)\n",
    "\n",
    "4. **One-hot encode** these levels to build the `item_features` matrix.\n",
    "\n",
    "This strategy keeps the model robust, avoids sparsity from rare levels, and preserves the potential value of the difficulty signal.\n"
   ]
  },
  {
   "cell_type": "markdown",
   "id": "07b88c0d",
   "metadata": {},
   "source": [
    "##### Load <code>story_lang_content_v1.csv</code>"
   ]
  },
  {
   "cell_type": "code",
   "execution_count": 270,
   "id": "9997b251",
   "metadata": {},
   "outputs": [
    {
     "data": {
      "text/html": [
       "<div>\n",
       "<style scoped>\n",
       "    .dataframe tbody tr th:only-of-type {\n",
       "        vertical-align: middle;\n",
       "    }\n",
       "\n",
       "    .dataframe tbody tr th {\n",
       "        vertical-align: top;\n",
       "    }\n",
       "\n",
       "    .dataframe thead th {\n",
       "        text-align: right;\n",
       "    }\n",
       "</style>\n",
       "<table border=\"1\" class=\"dataframe\">\n",
       "  <thead>\n",
       "    <tr style=\"text-align: right;\">\n",
       "      <th></th>\n",
       "      <th>story_id</th>\n",
       "      <th>lang_id</th>\n",
       "      <th>story_reading_time</th>\n",
       "      <th>track_duration</th>\n",
       "    </tr>\n",
       "  </thead>\n",
       "  <tbody>\n",
       "    <tr>\n",
       "      <th>0</th>\n",
       "      <td>5</td>\n",
       "      <td>1</td>\n",
       "      <td>18.0</td>\n",
       "      <td>NaN</td>\n",
       "    </tr>\n",
       "    <tr>\n",
       "      <th>1</th>\n",
       "      <td>6</td>\n",
       "      <td>1</td>\n",
       "      <td>30.0</td>\n",
       "      <td>NaN</td>\n",
       "    </tr>\n",
       "    <tr>\n",
       "      <th>2</th>\n",
       "      <td>7</td>\n",
       "      <td>1</td>\n",
       "      <td>31.0</td>\n",
       "      <td>NaN</td>\n",
       "    </tr>\n",
       "    <tr>\n",
       "      <th>3</th>\n",
       "      <td>8</td>\n",
       "      <td>1</td>\n",
       "      <td>13.0</td>\n",
       "      <td>NaN</td>\n",
       "    </tr>\n",
       "    <tr>\n",
       "      <th>4</th>\n",
       "      <td>9</td>\n",
       "      <td>1</td>\n",
       "      <td>27.0</td>\n",
       "      <td>NaN</td>\n",
       "    </tr>\n",
       "  </tbody>\n",
       "</table>\n",
       "</div>"
      ],
      "text/plain": [
       "   story_id  lang_id  story_reading_time  track_duration\n",
       "0         5        1                18.0             NaN\n",
       "1         6        1                30.0             NaN\n",
       "2         7        1                31.0             NaN\n",
       "3         8        1                13.0             NaN\n",
       "4         9        1                27.0             NaN"
      ]
     },
     "execution_count": 270,
     "metadata": {},
     "output_type": "execute_result"
    }
   ],
   "source": [
    "df_story_lang_content = pd.read_csv(\"../data/cleaned_data/story_lang_content_v1.csv\")\n",
    "df_story_lang_content.head()"
   ]
  },
  {
   "cell_type": "code",
   "execution_count": 271,
   "id": "173b99ac",
   "metadata": {},
   "outputs": [
    {
     "name": "stdout",
     "output_type": "stream",
     "text": [
      "<class 'pandas.core.frame.DataFrame'>\n",
      "RangeIndex: 41067 entries, 0 to 41066\n",
      "Data columns (total 4 columns):\n",
      " #   Column              Non-Null Count  Dtype  \n",
      "---  ------              --------------  -----  \n",
      " 0   story_id            41067 non-null  int64  \n",
      " 1   lang_id             41067 non-null  int64  \n",
      " 2   story_reading_time  41067 non-null  float64\n",
      " 3   track_duration      16111 non-null  float64\n",
      "dtypes: float64(2), int64(2)\n",
      "memory usage: 1.3 MB\n"
     ]
    }
   ],
   "source": [
    "df_story_lang_content.info()"
   ]
  },
  {
   "cell_type": "code",
   "execution_count": 272,
   "id": "6eba055f",
   "metadata": {},
   "outputs": [
    {
     "data": {
      "text/html": [
       "<div>\n",
       "<style scoped>\n",
       "    .dataframe tbody tr th:only-of-type {\n",
       "        vertical-align: middle;\n",
       "    }\n",
       "\n",
       "    .dataframe tbody tr th {\n",
       "        vertical-align: top;\n",
       "    }\n",
       "\n",
       "    .dataframe thead th {\n",
       "        text-align: right;\n",
       "    }\n",
       "</style>\n",
       "<table border=\"1\" class=\"dataframe\">\n",
       "  <thead>\n",
       "    <tr style=\"text-align: right;\">\n",
       "      <th></th>\n",
       "      <th>story_id</th>\n",
       "      <th>lang_id</th>\n",
       "      <th>story_reading_time</th>\n",
       "      <th>track_duration</th>\n",
       "    </tr>\n",
       "  </thead>\n",
       "  <tbody>\n",
       "    <tr>\n",
       "      <th>0</th>\n",
       "      <td>5</td>\n",
       "      <td>1</td>\n",
       "      <td>18.0</td>\n",
       "      <td>NaN</td>\n",
       "    </tr>\n",
       "    <tr>\n",
       "      <th>1</th>\n",
       "      <td>6</td>\n",
       "      <td>1</td>\n",
       "      <td>30.0</td>\n",
       "      <td>NaN</td>\n",
       "    </tr>\n",
       "    <tr>\n",
       "      <th>2</th>\n",
       "      <td>7</td>\n",
       "      <td>1</td>\n",
       "      <td>31.0</td>\n",
       "      <td>NaN</td>\n",
       "    </tr>\n",
       "    <tr>\n",
       "      <th>3</th>\n",
       "      <td>8</td>\n",
       "      <td>1</td>\n",
       "      <td>13.0</td>\n",
       "      <td>NaN</td>\n",
       "    </tr>\n",
       "    <tr>\n",
       "      <th>4</th>\n",
       "      <td>9</td>\n",
       "      <td>1</td>\n",
       "      <td>27.0</td>\n",
       "      <td>NaN</td>\n",
       "    </tr>\n",
       "  </tbody>\n",
       "</table>\n",
       "</div>"
      ],
      "text/plain": [
       "   story_id  lang_id  story_reading_time  track_duration\n",
       "0         5        1                18.0             NaN\n",
       "1         6        1                30.0             NaN\n",
       "2         7        1                31.0             NaN\n",
       "3         8        1                13.0             NaN\n",
       "4         9        1                27.0             NaN"
      ]
     },
     "execution_count": 272,
     "metadata": {},
     "output_type": "execute_result"
    }
   ],
   "source": [
    "df_story_lang_content = df_story_lang_content.merge(df_story_cat['story_id'], on='story_id')\n",
    "df_story_lang_content.head()"
   ]
  },
  {
   "cell_type": "code",
   "execution_count": 273,
   "id": "a890d0f2",
   "metadata": {},
   "outputs": [
    {
     "name": "stdout",
     "output_type": "stream",
     "text": [
      "<class 'pandas.core.frame.DataFrame'>\n",
      "RangeIndex: 35292 entries, 0 to 35291\n",
      "Data columns (total 4 columns):\n",
      " #   Column              Non-Null Count  Dtype  \n",
      "---  ------              --------------  -----  \n",
      " 0   story_id            35292 non-null  int64  \n",
      " 1   lang_id             35292 non-null  int64  \n",
      " 2   story_reading_time  35292 non-null  float64\n",
      " 3   track_duration      13164 non-null  float64\n",
      "dtypes: float64(2), int64(2)\n",
      "memory usage: 1.1 MB\n"
     ]
    }
   ],
   "source": [
    "df_story_lang_content.info()"
   ]
  },
  {
   "cell_type": "markdown",
   "id": "2e216ba1",
   "metadata": {},
   "source": [
    "##### Load <code>language_v1.csv</code>"
   ]
  },
  {
   "cell_type": "code",
   "execution_count": 274,
   "id": "5ce3efc6",
   "metadata": {},
   "outputs": [
    {
     "data": {
      "text/html": [
       "<div>\n",
       "<style scoped>\n",
       "    .dataframe tbody tr th:only-of-type {\n",
       "        vertical-align: middle;\n",
       "    }\n",
       "\n",
       "    .dataframe tbody tr th {\n",
       "        vertical-align: top;\n",
       "    }\n",
       "\n",
       "    .dataframe thead th {\n",
       "        text-align: right;\n",
       "    }\n",
       "</style>\n",
       "<table border=\"1\" class=\"dataframe\">\n",
       "  <thead>\n",
       "    <tr style=\"text-align: right;\">\n",
       "      <th></th>\n",
       "      <th>lang_id</th>\n",
       "      <th>language_abbr</th>\n",
       "    </tr>\n",
       "  </thead>\n",
       "  <tbody>\n",
       "    <tr>\n",
       "      <th>0</th>\n",
       "      <td>1</td>\n",
       "      <td>EL</td>\n",
       "    </tr>\n",
       "    <tr>\n",
       "      <th>1</th>\n",
       "      <td>2</td>\n",
       "      <td>EN</td>\n",
       "    </tr>\n",
       "    <tr>\n",
       "      <th>2</th>\n",
       "      <td>3</td>\n",
       "      <td>ZH</td>\n",
       "    </tr>\n",
       "    <tr>\n",
       "      <th>3</th>\n",
       "      <td>4</td>\n",
       "      <td>IT</td>\n",
       "    </tr>\n",
       "    <tr>\n",
       "      <th>4</th>\n",
       "      <td>5</td>\n",
       "      <td>DE</td>\n",
       "    </tr>\n",
       "  </tbody>\n",
       "</table>\n",
       "</div>"
      ],
      "text/plain": [
       "   lang_id language_abbr\n",
       "0        1            EL\n",
       "1        2            EN\n",
       "2        3            ZH\n",
       "3        4            IT\n",
       "4        5            DE"
      ]
     },
     "execution_count": 274,
     "metadata": {},
     "output_type": "execute_result"
    }
   ],
   "source": [
    "df_lang = pd.read_csv(\"../data/cleaned_data/language_v1.csv\")\n",
    "df_lang.head()"
   ]
  },
  {
   "cell_type": "code",
   "execution_count": 275,
   "id": "778a31eb",
   "metadata": {},
   "outputs": [
    {
     "name": "stdout",
     "output_type": "stream",
     "text": [
      "<class 'pandas.core.frame.DataFrame'>\n",
      "RangeIndex: 18 entries, 0 to 17\n",
      "Data columns (total 2 columns):\n",
      " #   Column         Non-Null Count  Dtype \n",
      "---  ------         --------------  ----- \n",
      " 0   lang_id        18 non-null     int64 \n",
      " 1   language_abbr  18 non-null     object\n",
      "dtypes: int64(1), object(1)\n",
      "memory usage: 420.0+ bytes\n"
     ]
    }
   ],
   "source": [
    "df_lang.info()"
   ]
  },
  {
   "cell_type": "code",
   "execution_count": 276,
   "id": "4ea49c9b",
   "metadata": {},
   "outputs": [
    {
     "name": "stdout",
     "output_type": "stream",
     "text": [
      "<class 'pandas.core.frame.DataFrame'>\n",
      "RangeIndex: 35292 entries, 0 to 35291\n",
      "Data columns (total 5 columns):\n",
      " #   Column              Non-Null Count  Dtype  \n",
      "---  ------              --------------  -----  \n",
      " 0   story_id            35292 non-null  int64  \n",
      " 1   lang_id             35292 non-null  int64  \n",
      " 2   story_reading_time  35292 non-null  float64\n",
      " 3   track_duration      13164 non-null  float64\n",
      " 4   language_abbr       35292 non-null  object \n",
      "dtypes: float64(2), int64(2), object(1)\n",
      "memory usage: 1.3+ MB\n"
     ]
    }
   ],
   "source": [
    "df_story_lang_content = df_story_lang_content.merge(df_lang, on='lang_id', how='left')\n",
    "df_story_lang_content.info()"
   ]
  },
  {
   "cell_type": "code",
   "execution_count": 277,
   "id": "9e670c07",
   "metadata": {},
   "outputs": [
    {
     "data": {
      "image/png": "[encoded data removed]",
      "text/plain": [
       "<Figure size 1200x600 with 1 Axes>"
      ]
     },
     "metadata": {},
     "output_type": "display_data"
    }
   ],
   "source": [
    "plt.figure(figsize=(12,6))\n",
    "story_lang_feq = (df_story_lang_content.groupby('language_abbr')['story_id'].nunique() / df_story_lang_content['story_id'].nunique() * 100) \\\n",
    "                        .reset_index(name='frequency') \\\n",
    "                        .sort_values(by='frequency', ascending=False)\n",
    "\n",
    "story_lang_feq['frequency'] = round(story_lang_feq['frequency'], 2)\n",
    "\n",
    "bars = plt.bar(story_lang_feq['language_abbr'], story_lang_feq['frequency'])\n",
    "plt.xlabel(\"Language\")\n",
    "plt.ylabel(\"Frequency(%)\")\n",
    "plt.title(\"Language Distribution\")\n",
    "plt.xticks(rotation=45)\n",
    "\n",
    "# Add percentage labels above bars\n",
    "for bar, pct in zip(bars, story_lang_feq[\"frequency\"]):\n",
    "    height = bar.get_height()\n",
    "    plt.text(bar.get_x() + bar.get_width()/2, height + 1,  # +1 to lift above bar\n",
    "             f\"{pct:.1f}%\", ha='center', va='bottom')\n",
    "\n",
    "plt.ylim(0, max(story_lang_feq[\"frequency\"]) * 1.15)  # Extra space above bars\n",
    "plt.show()"
   ]
  },
  {
   "cell_type": "markdown",
   "id": "bfce20ad",
   "metadata": {},
   "source": [
    "### Encoding Story Languages for `item_features_matrix`\n",
    "\n",
    "The `language_abbr` distribution shows that while **English (EN)** is available for all stories, many other languages appear much less frequently:\n",
    "\n",
    "- **EN**: 100%\n",
    "- **EL, DE, FR, IT, ES**: Each appears in ≥10% of stories\n",
    "- Remaining languages: Each <5% of stories\n",
    "\n",
    "#### Encoding Strategy:\n",
    "\n",
    "1. **Include individually** the 6 most common languages:\n",
    "   - `EN`, `EL`, `DE`, `FR`, `IT`, `ES`\n",
    "\n",
    "2. **Group all less common languages (<5%)** into a single category:\n",
    "   - Label as **`Other_Language`**\n",
    "\n",
    "3. **Multi-label one-hot encoding**:\n",
    "   - Each story can have multiple language columns with 1s where applicable.\n",
    "   - e.g., A story in `EN` and `FR` will have both columns set to 1.\n",
    "\n",
    "This approach avoids excessive sparsity while retaining meaningful multilingual availability information in recommendations.\n"
   ]
  },
  {
   "cell_type": "code",
   "execution_count": 278,
   "id": "1bef2a8e",
   "metadata": {},
   "outputs": [],
   "source": [
    "df_story_lang_content['story_length'] = df_story_lang_content['track_duration'].combine_first(df_story_lang_content['story_reading_time'])"
   ]
  },
  {
   "cell_type": "code",
   "execution_count": 279,
   "id": "c95abd87",
   "metadata": {},
   "outputs": [
    {
     "data": {
      "text/html": [
       "<div>\n",
       "<style scoped>\n",
       "    .dataframe tbody tr th:only-of-type {\n",
       "        vertical-align: middle;\n",
       "    }\n",
       "\n",
       "    .dataframe tbody tr th {\n",
       "        vertical-align: top;\n",
       "    }\n",
       "\n",
       "    .dataframe thead th {\n",
       "        text-align: right;\n",
       "    }\n",
       "</style>\n",
       "<table border=\"1\" class=\"dataframe\">\n",
       "  <thead>\n",
       "    <tr style=\"text-align: right;\">\n",
       "      <th></th>\n",
       "      <th>story_id</th>\n",
       "      <th>story_length</th>\n",
       "    </tr>\n",
       "  </thead>\n",
       "  <tbody>\n",
       "    <tr>\n",
       "      <th>0</th>\n",
       "      <td>5</td>\n",
       "      <td>14.5</td>\n",
       "    </tr>\n",
       "    <tr>\n",
       "      <th>1</th>\n",
       "      <td>6</td>\n",
       "      <td>25.5</td>\n",
       "    </tr>\n",
       "    <tr>\n",
       "      <th>2</th>\n",
       "      <td>7</td>\n",
       "      <td>35.5</td>\n",
       "    </tr>\n",
       "    <tr>\n",
       "      <th>3</th>\n",
       "      <td>8</td>\n",
       "      <td>11.5</td>\n",
       "    </tr>\n",
       "    <tr>\n",
       "      <th>4</th>\n",
       "      <td>9</td>\n",
       "      <td>28.0</td>\n",
       "    </tr>\n",
       "    <tr>\n",
       "      <th>5</th>\n",
       "      <td>10</td>\n",
       "      <td>20.5</td>\n",
       "    </tr>\n",
       "    <tr>\n",
       "      <th>6</th>\n",
       "      <td>11</td>\n",
       "      <td>11.5</td>\n",
       "    </tr>\n",
       "    <tr>\n",
       "      <th>7</th>\n",
       "      <td>12</td>\n",
       "      <td>18.5</td>\n",
       "    </tr>\n",
       "    <tr>\n",
       "      <th>8</th>\n",
       "      <td>13</td>\n",
       "      <td>34.0</td>\n",
       "    </tr>\n",
       "    <tr>\n",
       "      <th>9</th>\n",
       "      <td>14</td>\n",
       "      <td>25.5</td>\n",
       "    </tr>\n",
       "  </tbody>\n",
       "</table>\n",
       "</div>"
      ],
      "text/plain": [
       "   story_id  story_length\n",
       "0         5          14.5\n",
       "1         6          25.5\n",
       "2         7          35.5\n",
       "3         8          11.5\n",
       "4         9          28.0\n",
       "5        10          20.5\n",
       "6        11          11.5\n",
       "7        12          18.5\n",
       "8        13          34.0\n",
       "9        14          25.5"
      ]
     },
     "execution_count": 279,
     "metadata": {},
     "output_type": "execute_result"
    }
   ],
   "source": [
    "df_agg_story_length = df_story_lang_content.groupby('story_id')['story_length'].median().reset_index()\n",
    "df_agg_story_length.head(10)"
   ]
  },
  {
   "cell_type": "code",
   "execution_count": 282,
   "id": "a2444d55",
   "metadata": {},
   "outputs": [
    {
     "data": {
      "text/plain": [
       "count    16921.000000\n",
       "mean        31.958590\n",
       "std         18.701674\n",
       "min          0.000000\n",
       "25%         22.000000\n",
       "50%         30.000000\n",
       "75%         36.500000\n",
       "max        523.500000\n",
       "Name: story_length, dtype: float64"
      ]
     },
     "execution_count": 282,
     "metadata": {},
     "output_type": "execute_result"
    }
   ],
   "source": [
    "df_agg_story_length['story_length'].describe()"
   ]
  },
  {
   "cell_type": "code",
   "execution_count": 285,
   "id": "1d82bb5d",
   "metadata": {},
   "outputs": [
    {
     "data": {
      "text/html": [
       "<div>\n",
       "<style scoped>\n",
       "    .dataframe tbody tr th:only-of-type {\n",
       "        vertical-align: middle;\n",
       "    }\n",
       "\n",
       "    .dataframe tbody tr th {\n",
       "        vertical-align: top;\n",
       "    }\n",
       "\n",
       "    .dataframe thead th {\n",
       "        text-align: right;\n",
       "    }\n",
       "</style>\n",
       "<table border=\"1\" class=\"dataframe\">\n",
       "  <thead>\n",
       "    <tr style=\"text-align: right;\">\n",
       "      <th></th>\n",
       "      <th>story_id</th>\n",
       "      <th>story_length</th>\n",
       "      <th>story_length_cat</th>\n",
       "    </tr>\n",
       "  </thead>\n",
       "  <tbody>\n",
       "    <tr>\n",
       "      <th>0</th>\n",
       "      <td>5</td>\n",
       "      <td>14.5</td>\n",
       "      <td>Low</td>\n",
       "    </tr>\n",
       "    <tr>\n",
       "      <th>1</th>\n",
       "      <td>6</td>\n",
       "      <td>25.5</td>\n",
       "      <td>Low</td>\n",
       "    </tr>\n",
       "    <tr>\n",
       "      <th>2</th>\n",
       "      <td>7</td>\n",
       "      <td>35.5</td>\n",
       "      <td>High</td>\n",
       "    </tr>\n",
       "    <tr>\n",
       "      <th>3</th>\n",
       "      <td>8</td>\n",
       "      <td>11.5</td>\n",
       "      <td>Low</td>\n",
       "    </tr>\n",
       "    <tr>\n",
       "      <th>4</th>\n",
       "      <td>9</td>\n",
       "      <td>28.0</td>\n",
       "      <td>Medium</td>\n",
       "    </tr>\n",
       "  </tbody>\n",
       "</table>\n",
       "</div>"
      ],
      "text/plain": [
       "   story_id  story_length story_length_cat\n",
       "0         5          14.5              Low\n",
       "1         6          25.5              Low\n",
       "2         7          35.5             High\n",
       "3         8          11.5              Low\n",
       "4         9          28.0           Medium"
      ]
     },
     "execution_count": 285,
     "metadata": {},
     "output_type": "execute_result"
    }
   ],
   "source": [
    "# Perform equal-frequency binning\n",
    "df_agg_story_length['story_length_cat'] = pd.qcut(df_agg_story_length['story_length'], q=3, labels=['Low', 'Medium', 'High'])\n",
    "\n",
    "df_agg_story_length.head()"
   ]
  },
  {
   "cell_type": "code",
   "execution_count": 286,
   "id": "bf95f774",
   "metadata": {},
   "outputs": [
    {
     "name": "stdout",
     "output_type": "stream",
     "text": [
      "<class 'pandas.core.frame.DataFrame'>\n",
      "RangeIndex: 16921 entries, 0 to 16920\n",
      "Data columns (total 3 columns):\n",
      " #   Column            Non-Null Count  Dtype   \n",
      "---  ------            --------------  -----   \n",
      " 0   story_id          16921 non-null  int64   \n",
      " 1   story_length      16921 non-null  float64 \n",
      " 2   story_length_cat  16921 non-null  category\n",
      "dtypes: category(1), float64(1), int64(1)\n",
      "memory usage: 281.2 KB\n"
     ]
    }
   ],
   "source": [
    "df_agg_story_length.info()"
   ]
  },
  {
   "cell_type": "code",
   "execution_count": null,
   "id": "1df60aa3",
   "metadata": {},
   "outputs": [],
   "source": []
  }
 ],
 "metadata": {
  "kernelspec": {
   "display_name": "venv",
   "language": "python",
   "name": "python3"
  },
  "language_info": {
   "codemirror_mode": {
    "name": "ipython",
    "version": 3
   },
   "file_extension": ".py",
   "mimetype": "text/x-python",
   "name": "python",
   "nbconvert_exporter": "python",
   "pygments_lexer": "ipython3",
   "version": "3.11.2"
  }
 },
 "nbformat": 4,
 "nbformat_minor": 5
}
