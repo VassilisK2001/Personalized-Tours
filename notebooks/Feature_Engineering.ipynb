{
 "cells": [
  {
   "cell_type": "code",
   "execution_count": 36,
   "id": "91f8b1c6",
   "metadata": {},
   "outputs": [],
   "source": [
    "import pandas as pd\n",
    "import joblib \n",
    "import os\n",
    "from scipy.sparse import coo_matrix, save_npz"
   ]
  },
  {
   "cell_type": "markdown",
   "id": "fb93d2b0",
   "metadata": {},
   "source": [
    "##### Define reusable functions"
   ]
  },
  {
   "cell_type": "code",
   "execution_count": 37,
   "id": "760d0093",
   "metadata": {},
   "outputs": [],
   "source": [
    "def save_artifact(artifact, artifact_name, artifact_dir='../recommender_app/artifacts/'):\n",
    "    # Create the model directory if it doesn't exist\n",
    "    os.makedirs(artifact_dir, exist_ok=True)\n",
    "    # Save the model\n",
    "    artifact_path = os.path.join(artifact_dir, f\"{artifact_name}.pkl\")\n",
    "    joblib.dump(artifact, artifact_path)\n",
    "    print(f\"Artifact saved to {artifact_path}\")"
   ]
  },
  {
   "cell_type": "markdown",
   "id": "ff3b98fa",
   "metadata": {},
   "source": [
    "##### Load <code>interactions.csv</code>"
   ]
  },
  {
   "cell_type": "code",
   "execution_count": 38,
   "id": "7e726f9c",
   "metadata": {},
   "outputs": [
    {
     "data": {
      "text/html": [
       "<div>\n",
       "<style scoped>\n",
       "    .dataframe tbody tr th:only-of-type {\n",
       "        vertical-align: middle;\n",
       "    }\n",
       "\n",
       "    .dataframe tbody tr th {\n",
       "        vertical-align: top;\n",
       "    }\n",
       "\n",
       "    .dataframe thead th {\n",
       "        text-align: right;\n",
       "    }\n",
       "</style>\n",
       "<table border=\"1\" class=\"dataframe\">\n",
       "  <thead>\n",
       "    <tr style=\"text-align: right;\">\n",
       "      <th></th>\n",
       "      <th>user_id</th>\n",
       "      <th>context_device_type</th>\n",
       "      <th>story_id</th>\n",
       "      <th>user_duration</th>\n",
       "      <th>user_preferred_language</th>\n",
       "      <th>user_region</th>\n",
       "      <th>lang_id</th>\n",
       "    </tr>\n",
       "  </thead>\n",
       "  <tbody>\n",
       "    <tr>\n",
       "      <th>0</th>\n",
       "      <td>76bbb56c-b657-4973-ad9a-9cdcff38a2ef</td>\n",
       "      <td>android</td>\n",
       "      <td>9639</td>\n",
       "      <td>61.000000</td>\n",
       "      <td>nl</td>\n",
       "      <td>NL</td>\n",
       "      <td>2</td>\n",
       "    </tr>\n",
       "    <tr>\n",
       "      <th>1</th>\n",
       "      <td>8af25ada-d0be-4edf-a41f-ddd4dae82996</td>\n",
       "      <td>android</td>\n",
       "      <td>6715</td>\n",
       "      <td>63.411765</td>\n",
       "      <td>de</td>\n",
       "      <td>DE</td>\n",
       "      <td>5</td>\n",
       "    </tr>\n",
       "    <tr>\n",
       "      <th>2</th>\n",
       "      <td>8af25ada-d0be-4edf-a41f-ddd4dae82996</td>\n",
       "      <td>android</td>\n",
       "      <td>6721</td>\n",
       "      <td>54.000000</td>\n",
       "      <td>de</td>\n",
       "      <td>DE</td>\n",
       "      <td>5</td>\n",
       "    </tr>\n",
       "    <tr>\n",
       "      <th>3</th>\n",
       "      <td>76bbb56c-b657-4973-ad9a-9cdcff38a2ef</td>\n",
       "      <td>android</td>\n",
       "      <td>5344</td>\n",
       "      <td>49.176471</td>\n",
       "      <td>nl</td>\n",
       "      <td>NL</td>\n",
       "      <td>2</td>\n",
       "    </tr>\n",
       "    <tr>\n",
       "      <th>4</th>\n",
       "      <td>76bbb56c-b657-4973-ad9a-9cdcff38a2ef</td>\n",
       "      <td>android</td>\n",
       "      <td>5343</td>\n",
       "      <td>13.000000</td>\n",
       "      <td>nl</td>\n",
       "      <td>NL</td>\n",
       "      <td>2</td>\n",
       "    </tr>\n",
       "  </tbody>\n",
       "</table>\n",
       "</div>"
      ],
      "text/plain": [
       "                                user_id context_device_type  story_id  \\\n",
       "0  76bbb56c-b657-4973-ad9a-9cdcff38a2ef             android      9639   \n",
       "1  8af25ada-d0be-4edf-a41f-ddd4dae82996             android      6715   \n",
       "2  8af25ada-d0be-4edf-a41f-ddd4dae82996             android      6721   \n",
       "3  76bbb56c-b657-4973-ad9a-9cdcff38a2ef             android      5344   \n",
       "4  76bbb56c-b657-4973-ad9a-9cdcff38a2ef             android      5343   \n",
       "\n",
       "   user_duration user_preferred_language user_region  lang_id  \n",
       "0      61.000000                      nl          NL        2  \n",
       "1      63.411765                      de          DE        5  \n",
       "2      54.000000                      de          DE        5  \n",
       "3      49.176471                      nl          NL        2  \n",
       "4      13.000000                      nl          NL        2  "
      ]
     },
     "execution_count": 38,
     "metadata": {},
     "output_type": "execute_result"
    }
   ],
   "source": [
    "df_interactions = pd.read_csv(\"../data/cleaned_data/interactions.csv\")\n",
    "df_interactions.head()"
   ]
  },
  {
   "cell_type": "markdown",
   "id": "06c0c925",
   "metadata": {},
   "source": [
    "##### Load <code>story_categories_v1.csv</code>"
   ]
  },
  {
   "cell_type": "code",
   "execution_count": 39,
   "id": "8a14b82e",
   "metadata": {},
   "outputs": [
    {
     "data": {
      "text/html": [
       "<div>\n",
       "<style scoped>\n",
       "    .dataframe tbody tr th:only-of-type {\n",
       "        vertical-align: middle;\n",
       "    }\n",
       "\n",
       "    .dataframe tbody tr th {\n",
       "        vertical-align: top;\n",
       "    }\n",
       "\n",
       "    .dataframe thead th {\n",
       "        text-align: right;\n",
       "    }\n",
       "</style>\n",
       "<table border=\"1\" class=\"dataframe\">\n",
       "  <thead>\n",
       "    <tr style=\"text-align: right;\">\n",
       "      <th></th>\n",
       "      <th>story_id</th>\n",
       "      <th>generic_category_id</th>\n",
       "      <th>basic_category_id</th>\n",
       "      <th>difficulty_id</th>\n",
       "    </tr>\n",
       "  </thead>\n",
       "  <tbody>\n",
       "    <tr>\n",
       "      <th>0</th>\n",
       "      <td>5</td>\n",
       "      <td>2</td>\n",
       "      <td>NaN</td>\n",
       "      <td>NaN</td>\n",
       "    </tr>\n",
       "    <tr>\n",
       "      <th>1</th>\n",
       "      <td>6</td>\n",
       "      <td>2</td>\n",
       "      <td>NaN</td>\n",
       "      <td>NaN</td>\n",
       "    </tr>\n",
       "    <tr>\n",
       "      <th>2</th>\n",
       "      <td>7</td>\n",
       "      <td>2</td>\n",
       "      <td>NaN</td>\n",
       "      <td>NaN</td>\n",
       "    </tr>\n",
       "    <tr>\n",
       "      <th>3</th>\n",
       "      <td>8</td>\n",
       "      <td>2</td>\n",
       "      <td>NaN</td>\n",
       "      <td>NaN</td>\n",
       "    </tr>\n",
       "    <tr>\n",
       "      <th>4</th>\n",
       "      <td>9</td>\n",
       "      <td>2</td>\n",
       "      <td>NaN</td>\n",
       "      <td>NaN</td>\n",
       "    </tr>\n",
       "  </tbody>\n",
       "</table>\n",
       "</div>"
      ],
      "text/plain": [
       "   story_id  generic_category_id  basic_category_id  difficulty_id\n",
       "0         5                    2                NaN            NaN\n",
       "1         6                    2                NaN            NaN\n",
       "2         7                    2                NaN            NaN\n",
       "3         8                    2                NaN            NaN\n",
       "4         9                    2                NaN            NaN"
      ]
     },
     "execution_count": 39,
     "metadata": {},
     "output_type": "execute_result"
    }
   ],
   "source": [
    "df_story_categories = pd.read_csv(\"../data/cleaned_data/story_categories_v1.csv\")\n",
    "df_story_categories.head()"
   ]
  },
  {
   "cell_type": "code",
   "execution_count": 40,
   "id": "d9f71cab",
   "metadata": {},
   "outputs": [],
   "source": [
    "# Merge interactions dataframe with story categories dataframe\n",
    "df_interactions = df_interactions.merge(df_story_categories[['story_id', 'generic_category_id']], on='story_id', how='left')\n",
    "\n",
    "# Exclude info stories, since they will not be part of the recommendation system\n",
    "df_interactions = df_interactions[df_interactions['generic_category_id'] != 0]\n",
    "\n",
    "# Drop unnecessary column\n",
    "df_interactions.drop(columns=['generic_category_id'], inplace=True)"
   ]
  },
  {
   "cell_type": "code",
   "execution_count": 41,
   "id": "124cd177",
   "metadata": {},
   "outputs": [
    {
     "name": "stdout",
     "output_type": "stream",
     "text": [
      "<class 'pandas.core.frame.DataFrame'>\n",
      "Index: 350351 entries, 0 to 486120\n",
      "Data columns (total 7 columns):\n",
      " #   Column                   Non-Null Count   Dtype  \n",
      "---  ------                   --------------   -----  \n",
      " 0   user_id                  350351 non-null  object \n",
      " 1   context_device_type      350351 non-null  object \n",
      " 2   story_id                 350351 non-null  int64  \n",
      " 3   user_duration            350351 non-null  float64\n",
      " 4   user_preferred_language  350351 non-null  object \n",
      " 5   user_region              350351 non-null  object \n",
      " 6   lang_id                  350351 non-null  int64  \n",
      "dtypes: float64(1), int64(2), object(4)\n",
      "memory usage: 21.4+ MB\n"
     ]
    }
   ],
   "source": [
    "df_interactions.info()"
   ]
  },
  {
   "cell_type": "code",
   "execution_count": 42,
   "id": "50c02ce7",
   "metadata": {},
   "outputs": [],
   "source": [
    "# Get unique user ids\n",
    "user_ids = sorted(df_interactions['user_id'].unique())\n",
    "\n",
    "# Create user_id mappings to lightFM internal ids\n",
    "user_id_mapping = {uid: idx for idx, uid in enumerate(user_ids)}"
   ]
  },
  {
   "cell_type": "markdown",
   "id": "66e93993",
   "metadata": {},
   "source": [
    "##### Load <code>tour_stories_v1.csv</code>"
   ]
  },
  {
   "cell_type": "code",
   "execution_count": 43,
   "id": "7892aaf0",
   "metadata": {},
   "outputs": [
    {
     "data": {
      "text/html": [
       "<div>\n",
       "<style scoped>\n",
       "    .dataframe tbody tr th:only-of-type {\n",
       "        vertical-align: middle;\n",
       "    }\n",
       "\n",
       "    .dataframe tbody tr th {\n",
       "        vertical-align: top;\n",
       "    }\n",
       "\n",
       "    .dataframe thead th {\n",
       "        text-align: right;\n",
       "    }\n",
       "</style>\n",
       "<table border=\"1\" class=\"dataframe\">\n",
       "  <thead>\n",
       "    <tr style=\"text-align: right;\">\n",
       "      <th></th>\n",
       "      <th>story_id</th>\n",
       "      <th>story_title</th>\n",
       "      <th>tour_item_id</th>\n",
       "      <th>tour_item_name</th>\n",
       "      <th>tour_id</th>\n",
       "      <th>tour_name</th>\n",
       "    </tr>\n",
       "  </thead>\n",
       "  <tbody>\n",
       "    <tr>\n",
       "      <th>0</th>\n",
       "      <td>5</td>\n",
       "      <td>Lambros Eftaxias (1915-1996)</td>\n",
       "      <td>512</td>\n",
       "      <td>Lambros Eftaxias</td>\n",
       "      <td>1</td>\n",
       "      <td>King Otto's first palace</td>\n",
       "    </tr>\n",
       "    <tr>\n",
       "      <th>1</th>\n",
       "      <td>347</td>\n",
       "      <td>His career</td>\n",
       "      <td>512</td>\n",
       "      <td>Lambros Eftaxias</td>\n",
       "      <td>1</td>\n",
       "      <td>King Otto's first palace</td>\n",
       "    </tr>\n",
       "    <tr>\n",
       "      <th>2</th>\n",
       "      <td>348</td>\n",
       "      <td>The collector</td>\n",
       "      <td>512</td>\n",
       "      <td>Lambros Eftaxias</td>\n",
       "      <td>1</td>\n",
       "      <td>King Otto's first palace</td>\n",
       "    </tr>\n",
       "    <tr>\n",
       "      <th>3</th>\n",
       "      <td>349</td>\n",
       "      <td>Donations to Museums</td>\n",
       "      <td>512</td>\n",
       "      <td>Lambros Eftaxias</td>\n",
       "      <td>1</td>\n",
       "      <td>King Otto's first palace</td>\n",
       "    </tr>\n",
       "    <tr>\n",
       "      <th>4</th>\n",
       "      <td>350</td>\n",
       "      <td>The Friends of Music Association (1953)</td>\n",
       "      <td>512</td>\n",
       "      <td>Lambros Eftaxias</td>\n",
       "      <td>1</td>\n",
       "      <td>King Otto's first palace</td>\n",
       "    </tr>\n",
       "  </tbody>\n",
       "</table>\n",
       "</div>"
      ],
      "text/plain": [
       "   story_id                              story_title  tour_item_id  \\\n",
       "0         5             Lambros Eftaxias (1915-1996)           512   \n",
       "1       347                               His career           512   \n",
       "2       348                            The collector           512   \n",
       "3       349                     Donations to Museums           512   \n",
       "4       350  The Friends of Music Association (1953)           512   \n",
       "\n",
       "     tour_item_name  tour_id                 tour_name  \n",
       "0  Lambros Eftaxias        1  King Otto's first palace  \n",
       "1  Lambros Eftaxias        1  King Otto's first palace  \n",
       "2  Lambros Eftaxias        1  King Otto's first palace  \n",
       "3  Lambros Eftaxias        1  King Otto's first palace  \n",
       "4  Lambros Eftaxias        1  King Otto's first palace  "
      ]
     },
     "execution_count": 43,
     "metadata": {},
     "output_type": "execute_result"
    }
   ],
   "source": [
    "df_tour_stories = pd.read_csv(\"../data/cleaned_data/tour_stories_v1.csv\") \n",
    "df_tour_stories.head()"
   ]
  },
  {
   "cell_type": "code",
   "execution_count": 44,
   "id": "e241b506",
   "metadata": {},
   "outputs": [],
   "source": [
    "# Merge tour stories dataframe with story categories dataframe \n",
    "df_tour_stories = df_tour_stories.merge(df_story_categories, on='story_id', how='left')\n",
    "\n",
    "# Exclude info stories\n",
    "df_tour_stories = df_tour_stories[df_tour_stories['generic_category_id'] != 0]"
   ]
  },
  {
   "cell_type": "code",
   "execution_count": 45,
   "id": "3fbe4bff",
   "metadata": {},
   "outputs": [
    {
     "name": "stdout",
     "output_type": "stream",
     "text": [
      "<class 'pandas.core.frame.DataFrame'>\n",
      "Index: 16921 entries, 0 to 19771\n",
      "Data columns (total 9 columns):\n",
      " #   Column               Non-Null Count  Dtype  \n",
      "---  ------               --------------  -----  \n",
      " 0   story_id             16921 non-null  int64  \n",
      " 1   story_title          16921 non-null  object \n",
      " 2   tour_item_id         16921 non-null  int64  \n",
      " 3   tour_item_name       16921 non-null  object \n",
      " 4   tour_id              16921 non-null  int64  \n",
      " 5   tour_name            16921 non-null  object \n",
      " 6   generic_category_id  16921 non-null  int64  \n",
      " 7   basic_category_id    257 non-null    float64\n",
      " 8   difficulty_id        5772 non-null   float64\n",
      "dtypes: float64(2), int64(4), object(3)\n",
      "memory usage: 1.3+ MB\n"
     ]
    }
   ],
   "source": [
    "df_tour_stories.info()"
   ]
  },
  {
   "cell_type": "code",
   "execution_count": 46,
   "id": "1c9ab2aa",
   "metadata": {},
   "outputs": [],
   "source": [
    "# Get unique story ids as item_ids\n",
    "item_ids = sorted(df_tour_stories['story_id'].unique())\n",
    "\n",
    "# Create item_id mappings to lightFM internal ids\n",
    "item_id_mapping = {iid: idx for idx, iid in enumerate(item_ids)}"
   ]
  },
  {
   "cell_type": "code",
   "execution_count": 47,
   "id": "e704d1a6",
   "metadata": {},
   "outputs": [
    {
     "name": "stdout",
     "output_type": "stream",
     "text": [
      "Artifact saved to ../recommender_app/artifacts/user_id_mapping.pkl\n",
      "Artifact saved to ../recommender_app/artifacts/item_id_mapping.pkl\n"
     ]
    }
   ],
   "source": [
    "save_artifact(user_id_mapping, \"user_id_mapping\")\n",
    "save_artifact(item_id_mapping, \"item_id_mapping\")"
   ]
  },
  {
   "cell_type": "markdown",
   "id": "2ebb8a39",
   "metadata": {},
   "source": [
    "### Build interactions matrix"
   ]
  },
  {
   "cell_type": "markdown",
   "id": "b22dbc67",
   "metadata": {},
   "source": [
    "##### Load <code>story_lang_content_v1.csv</code>"
   ]
  },
  {
   "cell_type": "code",
   "execution_count": 48,
   "id": "b98ad711",
   "metadata": {},
   "outputs": [
    {
     "data": {
      "text/html": [
       "<div>\n",
       "<style scoped>\n",
       "    .dataframe tbody tr th:only-of-type {\n",
       "        vertical-align: middle;\n",
       "    }\n",
       "\n",
       "    .dataframe tbody tr th {\n",
       "        vertical-align: top;\n",
       "    }\n",
       "\n",
       "    .dataframe thead th {\n",
       "        text-align: right;\n",
       "    }\n",
       "</style>\n",
       "<table border=\"1\" class=\"dataframe\">\n",
       "  <thead>\n",
       "    <tr style=\"text-align: right;\">\n",
       "      <th></th>\n",
       "      <th>story_id</th>\n",
       "      <th>lang_id</th>\n",
       "      <th>story_reading_time</th>\n",
       "      <th>track_duration</th>\n",
       "    </tr>\n",
       "  </thead>\n",
       "  <tbody>\n",
       "    <tr>\n",
       "      <th>0</th>\n",
       "      <td>5</td>\n",
       "      <td>1</td>\n",
       "      <td>18.0</td>\n",
       "      <td>NaN</td>\n",
       "    </tr>\n",
       "    <tr>\n",
       "      <th>1</th>\n",
       "      <td>6</td>\n",
       "      <td>1</td>\n",
       "      <td>30.0</td>\n",
       "      <td>NaN</td>\n",
       "    </tr>\n",
       "    <tr>\n",
       "      <th>2</th>\n",
       "      <td>7</td>\n",
       "      <td>1</td>\n",
       "      <td>31.0</td>\n",
       "      <td>NaN</td>\n",
       "    </tr>\n",
       "    <tr>\n",
       "      <th>3</th>\n",
       "      <td>8</td>\n",
       "      <td>1</td>\n",
       "      <td>13.0</td>\n",
       "      <td>NaN</td>\n",
       "    </tr>\n",
       "    <tr>\n",
       "      <th>4</th>\n",
       "      <td>9</td>\n",
       "      <td>1</td>\n",
       "      <td>27.0</td>\n",
       "      <td>NaN</td>\n",
       "    </tr>\n",
       "  </tbody>\n",
       "</table>\n",
       "</div>"
      ],
      "text/plain": [
       "   story_id  lang_id  story_reading_time  track_duration\n",
       "0         5        1                18.0             NaN\n",
       "1         6        1                30.0             NaN\n",
       "2         7        1                31.0             NaN\n",
       "3         8        1                13.0             NaN\n",
       "4         9        1                27.0             NaN"
      ]
     },
     "execution_count": 48,
     "metadata": {},
     "output_type": "execute_result"
    }
   ],
   "source": [
    "df_story_lang_content = pd.read_csv(\"../data/cleaned_data/story_lang_content_v1.csv\") \n",
    "df_story_lang_content.head()"
   ]
  },
  {
   "cell_type": "code",
   "execution_count": 49,
   "id": "e5212698",
   "metadata": {},
   "outputs": [
    {
     "data": {
      "text/html": [
       "<div>\n",
       "<style scoped>\n",
       "    .dataframe tbody tr th:only-of-type {\n",
       "        vertical-align: middle;\n",
       "    }\n",
       "\n",
       "    .dataframe tbody tr th {\n",
       "        vertical-align: top;\n",
       "    }\n",
       "\n",
       "    .dataframe thead th {\n",
       "        text-align: right;\n",
       "    }\n",
       "</style>\n",
       "<table border=\"1\" class=\"dataframe\">\n",
       "  <thead>\n",
       "    <tr style=\"text-align: right;\">\n",
       "      <th></th>\n",
       "      <th>user_id</th>\n",
       "      <th>story_id</th>\n",
       "      <th>completion_ratio</th>\n",
       "    </tr>\n",
       "  </thead>\n",
       "  <tbody>\n",
       "    <tr>\n",
       "      <th>0</th>\n",
       "      <td>00021015-59DD-4051-8B2B-E9599FAF445C</td>\n",
       "      <td>18089</td>\n",
       "      <td>1.00000</td>\n",
       "    </tr>\n",
       "    <tr>\n",
       "      <th>1</th>\n",
       "      <td>00030D04-7CF1-4235-8A2F-227CDCDAE12F</td>\n",
       "      <td>5345</td>\n",
       "      <td>1.00000</td>\n",
       "    </tr>\n",
       "    <tr>\n",
       "      <th>2</th>\n",
       "      <td>00030D04-7CF1-4235-8A2F-227CDCDAE12F</td>\n",
       "      <td>5350</td>\n",
       "      <td>0.09434</td>\n",
       "    </tr>\n",
       "    <tr>\n",
       "      <th>3</th>\n",
       "      <td>00030D04-7CF1-4235-8A2F-227CDCDAE12F</td>\n",
       "      <td>6713</td>\n",
       "      <td>1.00000</td>\n",
       "    </tr>\n",
       "    <tr>\n",
       "      <th>4</th>\n",
       "      <td>00030D04-7CF1-4235-8A2F-227CDCDAE12F</td>\n",
       "      <td>6720</td>\n",
       "      <td>1.00000</td>\n",
       "    </tr>\n",
       "  </tbody>\n",
       "</table>\n",
       "</div>"
      ],
      "text/plain": [
       "                                user_id  story_id  completion_ratio\n",
       "0  00021015-59DD-4051-8B2B-E9599FAF445C     18089           1.00000\n",
       "1  00030D04-7CF1-4235-8A2F-227CDCDAE12F      5345           1.00000\n",
       "2  00030D04-7CF1-4235-8A2F-227CDCDAE12F      5350           0.09434\n",
       "3  00030D04-7CF1-4235-8A2F-227CDCDAE12F      6713           1.00000\n",
       "4  00030D04-7CF1-4235-8A2F-227CDCDAE12F      6720           1.00000"
      ]
     },
     "execution_count": 49,
     "metadata": {},
     "output_type": "execute_result"
    }
   ],
   "source": [
    "# Calculate total listening time per (user, story) pair\n",
    "df_agg_interactions = df_interactions.groupby(['user_id', 'story_id', 'lang_id'])['user_duration'].sum().reset_index()\n",
    "\n",
    "df_agg_interactions = df_agg_interactions.merge(df_story_lang_content, on=['story_id', 'lang_id'], how='left')\n",
    "\n",
    "# Use story audio track duration as story length when available, otherwise use story reading time\n",
    "df_agg_interactions['story_length'] = df_agg_interactions['track_duration'].combine_first(df_agg_interactions['story_reading_time'])\n",
    "\n",
    "# Calculate story completion ratio, clipped to [0,1]\n",
    "df_agg_interactions['completion_ratio'] = (df_agg_interactions['user_duration'] / df_agg_interactions['story_length']).clip(upper=1.0)\n",
    "\n",
    "# Drop unnecessary columns\n",
    "df_agg_interactions.drop(columns=['lang_id', 'story_reading_time', 'track_duration', 'user_duration', 'story_length'], inplace=True)\n",
    "\n",
    "df_agg_interactions.head()\n"
   ]
  },
  {
   "cell_type": "code",
   "execution_count": 50,
   "id": "19ccf327",
   "metadata": {},
   "outputs": [
    {
     "name": "stdout",
     "output_type": "stream",
     "text": [
      "<class 'pandas.core.frame.DataFrame'>\n",
      "RangeIndex: 286093 entries, 0 to 286092\n",
      "Data columns (total 3 columns):\n",
      " #   Column            Non-Null Count   Dtype  \n",
      "---  ------            --------------   -----  \n",
      " 0   user_id           286093 non-null  object \n",
      " 1   story_id          286093 non-null  int64  \n",
      " 2   completion_ratio  286093 non-null  float64\n",
      "dtypes: float64(1), int64(1), object(1)\n",
      "memory usage: 6.5+ MB\n"
     ]
    }
   ],
   "source": [
    "df_agg_interactions.info()"
   ]
  },
  {
   "cell_type": "code",
   "execution_count": 51,
   "id": "0420cdc5",
   "metadata": {},
   "outputs": [
    {
     "data": {
      "text/plain": [
       "count    286093.000000\n",
       "mean          0.895094\n",
       "std           0.254378\n",
       "min           0.049020\n",
       "25%           1.000000\n",
       "50%           1.000000\n",
       "75%           1.000000\n",
       "max           1.000000\n",
       "Name: completion_ratio, dtype: float64"
      ]
     },
     "execution_count": 51,
     "metadata": {},
     "output_type": "execute_result"
    }
   ],
   "source": [
    "df_agg_interactions['completion_ratio'].describe()"
   ]
  },
  {
   "cell_type": "code",
   "execution_count": 52,
   "id": "de2a84bc",
   "metadata": {},
   "outputs": [],
   "source": [
    "# Map actual Ids to internal LightFM indices\n",
    "row = df_agg_interactions['user_id'].map(user_id_mapping) \n",
    "col = df_agg_interactions['story_id'].map(item_id_mapping)\n",
    "data = df_agg_interactions['completion_ratio']\n",
    "\n",
    "# Create interactions matrix as sparse  COO matrix and convert to csr for efficiency\n",
    "interactions_matrix = coo_matrix((data, (row, col)), shape=(len(user_id_mapping), len(item_id_mapping))).tocsr()"
   ]
  },
  {
   "cell_type": "markdown",
   "id": "204d308d",
   "metadata": {},
   "source": [
    "### Build item features matrix"
   ]
  },
  {
   "cell_type": "code",
   "execution_count": 53,
   "id": "31329584",
   "metadata": {},
   "outputs": [
    {
     "name": "stdout",
     "output_type": "stream",
     "text": [
      "<class 'pandas.core.frame.DataFrame'>\n",
      "Index: 16921 entries, 0 to 19771\n",
      "Data columns (total 9 columns):\n",
      " #   Column               Non-Null Count  Dtype  \n",
      "---  ------               --------------  -----  \n",
      " 0   story_id             16921 non-null  int64  \n",
      " 1   story_title          16921 non-null  object \n",
      " 2   tour_item_id         16921 non-null  int64  \n",
      " 3   tour_item_name       16921 non-null  object \n",
      " 4   tour_id              16921 non-null  int64  \n",
      " 5   tour_name            16921 non-null  object \n",
      " 6   generic_category_id  16921 non-null  int64  \n",
      " 7   basic_category_id    257 non-null    float64\n",
      " 8   difficulty_id        5772 non-null   float64\n",
      "dtypes: float64(2), int64(4), object(3)\n",
      "memory usage: 1.3+ MB\n"
     ]
    }
   ],
   "source": [
    "df_tour_stories.info()"
   ]
  },
  {
   "cell_type": "markdown",
   "id": "366b05ff",
   "metadata": {},
   "source": [
    "#### Load csv files with necessary story metadata"
   ]
  },
  {
   "cell_type": "code",
   "execution_count": 55,
   "id": "2ccf119b",
   "metadata": {},
   "outputs": [],
   "source": [
    "df_generic_category = pd.read_csv(\"../data/cleaned_data/generic_categories_v1.csv\")"
   ]
  },
  {
   "cell_type": "code",
   "execution_count": null,
   "id": "8a695e56",
   "metadata": {},
   "outputs": [
    {
     "ename": "KeyError",
     "evalue": "\"[''] not in index\"",
     "output_type": "error",
     "traceback": [
      "\u001b[31m---------------------------------------------------------------------------\u001b[39m",
      "\u001b[31mKeyError\u001b[39m                                  Traceback (most recent call last)",
      "\u001b[36mCell\u001b[39m\u001b[36m \u001b[39m\u001b[32mIn[54]\u001b[39m\u001b[32m, line 1\u001b[39m\n\u001b[32m----> \u001b[39m\u001b[32m1\u001b[39m df_item_features = \u001b[43mdf_tour_stories\u001b[49m\u001b[43m[\u001b[49m\u001b[43m[\u001b[49m\u001b[33;43m'\u001b[39;49m\u001b[33;43mstory_id\u001b[39;49m\u001b[33;43m'\u001b[39;49m\u001b[43m,\u001b[49m\u001b[43m \u001b[49m\u001b[33;43m'\u001b[39;49m\u001b[33;43m'\u001b[39;49m\u001b[43m]\u001b[49m\u001b[43m]\u001b[49m\n",
      "\u001b[36mFile \u001b[39m\u001b[32mc:\\Users\\Βασίλης\\OneDrive\\Υπολογιστής\\Data_projects\\Personalized_Tours\\venv\\Lib\\site-packages\\pandas\\core\\frame.py:4108\u001b[39m, in \u001b[36mDataFrame.__getitem__\u001b[39m\u001b[34m(self, key)\u001b[39m\n\u001b[32m   4106\u001b[39m     \u001b[38;5;28;01mif\u001b[39;00m is_iterator(key):\n\u001b[32m   4107\u001b[39m         key = \u001b[38;5;28mlist\u001b[39m(key)\n\u001b[32m-> \u001b[39m\u001b[32m4108\u001b[39m     indexer = \u001b[38;5;28;43mself\u001b[39;49m\u001b[43m.\u001b[49m\u001b[43mcolumns\u001b[49m\u001b[43m.\u001b[49m\u001b[43m_get_indexer_strict\u001b[49m\u001b[43m(\u001b[49m\u001b[43mkey\u001b[49m\u001b[43m,\u001b[49m\u001b[43m \u001b[49m\u001b[33;43m\"\u001b[39;49m\u001b[33;43mcolumns\u001b[39;49m\u001b[33;43m\"\u001b[39;49m\u001b[43m)\u001b[49m[\u001b[32m1\u001b[39m]\n\u001b[32m   4110\u001b[39m \u001b[38;5;66;03m# take() does not accept boolean indexers\u001b[39;00m\n\u001b[32m   4111\u001b[39m \u001b[38;5;28;01mif\u001b[39;00m \u001b[38;5;28mgetattr\u001b[39m(indexer, \u001b[33m\"\u001b[39m\u001b[33mdtype\u001b[39m\u001b[33m\"\u001b[39m, \u001b[38;5;28;01mNone\u001b[39;00m) == \u001b[38;5;28mbool\u001b[39m:\n",
      "\u001b[36mFile \u001b[39m\u001b[32mc:\\Users\\Βασίλης\\OneDrive\\Υπολογιστής\\Data_projects\\Personalized_Tours\\venv\\Lib\\site-packages\\pandas\\core\\indexes\\base.py:6200\u001b[39m, in \u001b[36mIndex._get_indexer_strict\u001b[39m\u001b[34m(self, key, axis_name)\u001b[39m\n\u001b[32m   6197\u001b[39m \u001b[38;5;28;01melse\u001b[39;00m:\n\u001b[32m   6198\u001b[39m     keyarr, indexer, new_indexer = \u001b[38;5;28mself\u001b[39m._reindex_non_unique(keyarr)\n\u001b[32m-> \u001b[39m\u001b[32m6200\u001b[39m \u001b[38;5;28;43mself\u001b[39;49m\u001b[43m.\u001b[49m\u001b[43m_raise_if_missing\u001b[49m\u001b[43m(\u001b[49m\u001b[43mkeyarr\u001b[49m\u001b[43m,\u001b[49m\u001b[43m \u001b[49m\u001b[43mindexer\u001b[49m\u001b[43m,\u001b[49m\u001b[43m \u001b[49m\u001b[43maxis_name\u001b[49m\u001b[43m)\u001b[49m\n\u001b[32m   6202\u001b[39m keyarr = \u001b[38;5;28mself\u001b[39m.take(indexer)\n\u001b[32m   6203\u001b[39m \u001b[38;5;28;01mif\u001b[39;00m \u001b[38;5;28misinstance\u001b[39m(key, Index):\n\u001b[32m   6204\u001b[39m     \u001b[38;5;66;03m# GH 42790 - Preserve name from an Index\u001b[39;00m\n",
      "\u001b[36mFile \u001b[39m\u001b[32mc:\\Users\\Βασίλης\\OneDrive\\Υπολογιστής\\Data_projects\\Personalized_Tours\\venv\\Lib\\site-packages\\pandas\\core\\indexes\\base.py:6252\u001b[39m, in \u001b[36mIndex._raise_if_missing\u001b[39m\u001b[34m(self, key, indexer, axis_name)\u001b[39m\n\u001b[32m   6249\u001b[39m     \u001b[38;5;28;01mraise\u001b[39;00m \u001b[38;5;167;01mKeyError\u001b[39;00m(\u001b[33mf\u001b[39m\u001b[33m\"\u001b[39m\u001b[33mNone of [\u001b[39m\u001b[38;5;132;01m{\u001b[39;00mkey\u001b[38;5;132;01m}\u001b[39;00m\u001b[33m] are in the [\u001b[39m\u001b[38;5;132;01m{\u001b[39;00maxis_name\u001b[38;5;132;01m}\u001b[39;00m\u001b[33m]\u001b[39m\u001b[33m\"\u001b[39m)\n\u001b[32m   6251\u001b[39m not_found = \u001b[38;5;28mlist\u001b[39m(ensure_index(key)[missing_mask.nonzero()[\u001b[32m0\u001b[39m]].unique())\n\u001b[32m-> \u001b[39m\u001b[32m6252\u001b[39m \u001b[38;5;28;01mraise\u001b[39;00m \u001b[38;5;167;01mKeyError\u001b[39;00m(\u001b[33mf\u001b[39m\u001b[33m\"\u001b[39m\u001b[38;5;132;01m{\u001b[39;00mnot_found\u001b[38;5;132;01m}\u001b[39;00m\u001b[33m not in index\u001b[39m\u001b[33m\"\u001b[39m)\n",
      "\u001b[31mKeyError\u001b[39m: \"[''] not in index\""
     ]
    }
   ],
   "source": [
    "df_item_features = df_tour_stories[['story_id', 'tour_id', 'generic_category_id', 'basic_category_id', 'difficulty_id']]\n",
    "\n",
    "df_item_features = df_item_features.merge(df_generic_category, on='generic_category_id', how='left')\n",
    "\n"
   ]
  }
 ],
 "metadata": {
  "kernelspec": {
   "display_name": "venv",
   "language": "python",
   "name": "python3"
  },
  "language_info": {
   "codemirror_mode": {
    "name": "ipython",
    "version": 3
   },
   "file_extension": ".py",
   "mimetype": "text/x-python",
   "name": "python",
   "nbconvert_exporter": "python",
   "pygments_lexer": "ipython3",
   "version": "3.11.2"
  }
 },
 "nbformat": 4,
 "nbformat_minor": 5
}
