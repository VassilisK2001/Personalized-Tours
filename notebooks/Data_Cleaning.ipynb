{
 "cells": [
  {
   "cell_type": "markdown",
   "metadata": {},
   "source": [
    "### Install necessary libraries"
   ]
  },
  {
   "cell_type": "code",
   "execution_count": 1,
   "metadata": {},
   "outputs": [],
   "source": [
    "import pandas as pd"
   ]
  },
  {
   "cell_type": "markdown",
   "metadata": {},
   "source": [
    "#### We add necessary lookup tables"
   ]
  },
  {
   "cell_type": "code",
   "execution_count": 3,
   "metadata": {},
   "outputs": [],
   "source": [
    "# Add generic categories lookup table\n",
    "generic_categories = ['Info', 'Tips', 'Themes', 'Quiz', 'Cultural activity']\n",
    "df_generic = pd.DataFrame({'id': range(len(generic_categories)), 'category': generic_categories})\n",
    "df_generic.to_csv('../data/generic_categories.csv', index=False) "
   ]
  },
  {
   "cell_type": "code",
   "execution_count": 4,
   "metadata": {},
   "outputs": [],
   "source": [
    "# Basic categories mapped to their generic category \n",
    "basic_categories = {\n",
    "    'Info': ['Directions', 'Introduction', 'Closure'],\n",
    "    'Tips': ['Shopping', 'Gastronomy-Restaurant', 'Nightlife-Bar', 'Alternative activity', 'Selfie stop'], \n",
    "    'Themes': ['History', 'Architecture', 'Archeology', 'Art', 'Mythology', 'Quirky', 'Nature', 'Kids', 'Fun', 'Religion', 'Tradition/Folklore', 'Science'],\n",
    "    'Quiz': [],\n",
    "    'Cultural activity': []\n",
    "}\n",
    "\n",
    "# Create the basic category table \n",
    "basic_data = []\n",
    "for generic_id, (generic, sub_categories) in enumerate(basic_categories.items()):\n",
    "    for sub_id, sub_cat in enumerate(sub_categories):\n",
    "        basic_data.append({'id': sub_id, 'generic_category_id': generic_id, 'basic_category': sub_cat})\n",
    "\n",
    "df_basic = pd.DataFrame(basic_data)\n",
    "df_basic.to_csv('../data/basic_categories.csv', index=False)"
   ]
  },
  {
   "cell_type": "code",
   "execution_count": 5,
   "metadata": {},
   "outputs": [],
   "source": [
    "# Add difficulty lookup table \n",
    "difficulty_levels = ['Easy', 'Mild', 'Difficult', 'Hard']\n",
    "df_difficulty = pd.DataFrame({'id': range(len(difficulty_levels)), 'difficulty': difficulty_levels})\n",
    "df_difficulty.to_csv('../data/difficulty_levels.csv', index=False)"
   ]
  },
  {
   "cell_type": "code",
   "execution_count": null,
   "metadata": {},
   "outputs": [],
   "source": []
  }
 ],
 "metadata": {
  "kernelspec": {
   "display_name": "venv",
   "language": "python",
   "name": "python3"
  },
  "language_info": {
   "codemirror_mode": {
    "name": "ipython",
    "version": 3
   },
   "file_extension": ".py",
   "mimetype": "text/x-python",
   "name": "python",
   "nbconvert_exporter": "python",
   "pygments_lexer": "ipython3",
   "version": "3.11.2"
  }
 },
 "nbformat": 4,
 "nbformat_minor": 2
}
